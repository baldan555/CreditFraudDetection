{
 "cells": [
  {
   "cell_type": "markdown",
   "metadata": {},
   "source": [
    "### <center>Dataset Attributes</center>\n",
    "    \n",
    "- **V1 - V28** : Numerical features that are a result of PCA transformation.\n",
    "               : Fitur numerik yang dihasilkan melalui transformasi menggunakan metode PCA\n",
    "\n",
    "- **Time** : Seconds elapsed between each transaction and the 1st transaction.\n",
    "           : Waktu dalam detik yang lewat antara setiap transaksi dan transaksi pertama.  \n",
    "\n",
    "- **Amount** : Transaction amount.\n",
    "             : Jumlah Transaksi\n",
    "\n",
    "- **Class** : Fraud or otherwise (1 or 0)\n",
    "            : Kategori transaksi, apakah fraud (penipuan) atau tidak (0 untuk tidak fraud, 1 untuk fraud)"
   ]
  },
  {
   "cell_type": "markdown",
   "metadata": {},
   "source": [
    "###  Contents | Konten :\n",
    "- Dataset Information\n",
    "- Exploratory Data Analysis\n",
    "- Feature Selection\n",
    "- Data Balancing\n",
    "- Modeling\n",
    "- Conclusion\n"
   ]
  },
  {
   "cell_type": "markdown",
   "metadata": {},
   "source": [
    "# <center><div style=\"font-family: Trebuchet MS; background-color: #00000; color: #545955; padding: 12px; line-height: 1;\">Dataset Information</div></center>"
   ]
  },
  {
   "cell_type": "markdown",
   "metadata": {},
   "source": [
    "### Import Library & Load Data"
   ]
  },
  {
   "cell_type": "code",
   "execution_count": 1,
   "metadata": {},
   "outputs": [],
   "source": [
    "import pandas as pd\n",
    "import numpy as np\n",
    "import matplotlib.pyplot as plt\n",
    "import seaborn as sns\n",
    "\n",
    "\n",
    "data = pd.read_csv(\"creditcard.csv\")\n"
   ]
  },
  {
   "cell_type": "markdown",
   "metadata": {},
   "source": [
    "### Exploratory Data Analysis"
   ]
  },
  {
   "cell_type": "code",
   "execution_count": 4,
   "metadata": {},
   "outputs": [
    {
     "data": {
      "text/html": [
       "<div>\n",
       "<style scoped>\n",
       "    .dataframe tbody tr th:only-of-type {\n",
       "        vertical-align: middle;\n",
       "    }\n",
       "\n",
       "    .dataframe tbody tr th {\n",
       "        vertical-align: top;\n",
       "    }\n",
       "\n",
       "    .dataframe thead th {\n",
       "        text-align: right;\n",
       "    }\n",
       "</style>\n",
       "<table border=\"1\" class=\"dataframe\">\n",
       "  <thead>\n",
       "    <tr style=\"text-align: right;\">\n",
       "      <th></th>\n",
       "      <th>Time</th>\n",
       "      <th>V1</th>\n",
       "      <th>V2</th>\n",
       "      <th>V3</th>\n",
       "      <th>V4</th>\n",
       "      <th>V5</th>\n",
       "      <th>V6</th>\n",
       "      <th>V7</th>\n",
       "      <th>V8</th>\n",
       "      <th>V9</th>\n",
       "      <th>...</th>\n",
       "      <th>V21</th>\n",
       "      <th>V22</th>\n",
       "      <th>V23</th>\n",
       "      <th>V24</th>\n",
       "      <th>V25</th>\n",
       "      <th>V26</th>\n",
       "      <th>V27</th>\n",
       "      <th>V28</th>\n",
       "      <th>Amount</th>\n",
       "      <th>Class</th>\n",
       "    </tr>\n",
       "  </thead>\n",
       "  <tbody>\n",
       "    <tr>\n",
       "      <th>0</th>\n",
       "      <td>0.0</td>\n",
       "      <td>-1.359807</td>\n",
       "      <td>-0.072781</td>\n",
       "      <td>2.536347</td>\n",
       "      <td>1.378155</td>\n",
       "      <td>-0.338321</td>\n",
       "      <td>0.462388</td>\n",
       "      <td>0.239599</td>\n",
       "      <td>0.098698</td>\n",
       "      <td>0.363787</td>\n",
       "      <td>...</td>\n",
       "      <td>-0.018307</td>\n",
       "      <td>0.277838</td>\n",
       "      <td>-0.110474</td>\n",
       "      <td>0.066928</td>\n",
       "      <td>0.128539</td>\n",
       "      <td>-0.189115</td>\n",
       "      <td>0.133558</td>\n",
       "      <td>-0.021053</td>\n",
       "      <td>149.62</td>\n",
       "      <td>0</td>\n",
       "    </tr>\n",
       "    <tr>\n",
       "      <th>1</th>\n",
       "      <td>0.0</td>\n",
       "      <td>1.191857</td>\n",
       "      <td>0.266151</td>\n",
       "      <td>0.166480</td>\n",
       "      <td>0.448154</td>\n",
       "      <td>0.060018</td>\n",
       "      <td>-0.082361</td>\n",
       "      <td>-0.078803</td>\n",
       "      <td>0.085102</td>\n",
       "      <td>-0.255425</td>\n",
       "      <td>...</td>\n",
       "      <td>-0.225775</td>\n",
       "      <td>-0.638672</td>\n",
       "      <td>0.101288</td>\n",
       "      <td>-0.339846</td>\n",
       "      <td>0.167170</td>\n",
       "      <td>0.125895</td>\n",
       "      <td>-0.008983</td>\n",
       "      <td>0.014724</td>\n",
       "      <td>2.69</td>\n",
       "      <td>0</td>\n",
       "    </tr>\n",
       "    <tr>\n",
       "      <th>2</th>\n",
       "      <td>1.0</td>\n",
       "      <td>-1.358354</td>\n",
       "      <td>-1.340163</td>\n",
       "      <td>1.773209</td>\n",
       "      <td>0.379780</td>\n",
       "      <td>-0.503198</td>\n",
       "      <td>1.800499</td>\n",
       "      <td>0.791461</td>\n",
       "      <td>0.247676</td>\n",
       "      <td>-1.514654</td>\n",
       "      <td>...</td>\n",
       "      <td>0.247998</td>\n",
       "      <td>0.771679</td>\n",
       "      <td>0.909412</td>\n",
       "      <td>-0.689281</td>\n",
       "      <td>-0.327642</td>\n",
       "      <td>-0.139097</td>\n",
       "      <td>-0.055353</td>\n",
       "      <td>-0.059752</td>\n",
       "      <td>378.66</td>\n",
       "      <td>0</td>\n",
       "    </tr>\n",
       "    <tr>\n",
       "      <th>3</th>\n",
       "      <td>1.0</td>\n",
       "      <td>-0.966272</td>\n",
       "      <td>-0.185226</td>\n",
       "      <td>1.792993</td>\n",
       "      <td>-0.863291</td>\n",
       "      <td>-0.010309</td>\n",
       "      <td>1.247203</td>\n",
       "      <td>0.237609</td>\n",
       "      <td>0.377436</td>\n",
       "      <td>-1.387024</td>\n",
       "      <td>...</td>\n",
       "      <td>-0.108300</td>\n",
       "      <td>0.005274</td>\n",
       "      <td>-0.190321</td>\n",
       "      <td>-1.175575</td>\n",
       "      <td>0.647376</td>\n",
       "      <td>-0.221929</td>\n",
       "      <td>0.062723</td>\n",
       "      <td>0.061458</td>\n",
       "      <td>123.50</td>\n",
       "      <td>0</td>\n",
       "    </tr>\n",
       "    <tr>\n",
       "      <th>4</th>\n",
       "      <td>2.0</td>\n",
       "      <td>-1.158233</td>\n",
       "      <td>0.877737</td>\n",
       "      <td>1.548718</td>\n",
       "      <td>0.403034</td>\n",
       "      <td>-0.407193</td>\n",
       "      <td>0.095921</td>\n",
       "      <td>0.592941</td>\n",
       "      <td>-0.270533</td>\n",
       "      <td>0.817739</td>\n",
       "      <td>...</td>\n",
       "      <td>-0.009431</td>\n",
       "      <td>0.798278</td>\n",
       "      <td>-0.137458</td>\n",
       "      <td>0.141267</td>\n",
       "      <td>-0.206010</td>\n",
       "      <td>0.502292</td>\n",
       "      <td>0.219422</td>\n",
       "      <td>0.215153</td>\n",
       "      <td>69.99</td>\n",
       "      <td>0</td>\n",
       "    </tr>\n",
       "  </tbody>\n",
       "</table>\n",
       "<p>5 rows × 31 columns</p>\n",
       "</div>"
      ],
      "text/plain": [
       "   Time        V1        V2        V3        V4        V5        V6        V7  \\\n",
       "0   0.0 -1.359807 -0.072781  2.536347  1.378155 -0.338321  0.462388  0.239599   \n",
       "1   0.0  1.191857  0.266151  0.166480  0.448154  0.060018 -0.082361 -0.078803   \n",
       "2   1.0 -1.358354 -1.340163  1.773209  0.379780 -0.503198  1.800499  0.791461   \n",
       "3   1.0 -0.966272 -0.185226  1.792993 -0.863291 -0.010309  1.247203  0.237609   \n",
       "4   2.0 -1.158233  0.877737  1.548718  0.403034 -0.407193  0.095921  0.592941   \n",
       "\n",
       "         V8        V9  ...       V21       V22       V23       V24       V25  \\\n",
       "0  0.098698  0.363787  ... -0.018307  0.277838 -0.110474  0.066928  0.128539   \n",
       "1  0.085102 -0.255425  ... -0.225775 -0.638672  0.101288 -0.339846  0.167170   \n",
       "2  0.247676 -1.514654  ...  0.247998  0.771679  0.909412 -0.689281 -0.327642   \n",
       "3  0.377436 -1.387024  ... -0.108300  0.005274 -0.190321 -1.175575  0.647376   \n",
       "4 -0.270533  0.817739  ... -0.009431  0.798278 -0.137458  0.141267 -0.206010   \n",
       "\n",
       "        V26       V27       V28  Amount  Class  \n",
       "0 -0.189115  0.133558 -0.021053  149.62      0  \n",
       "1  0.125895 -0.008983  0.014724    2.69      0  \n",
       "2 -0.139097 -0.055353 -0.059752  378.66      0  \n",
       "3 -0.221929  0.062723  0.061458  123.50      0  \n",
       "4  0.502292  0.219422  0.215153   69.99      0  \n",
       "\n",
       "[5 rows x 31 columns]"
      ]
     },
     "execution_count": 4,
     "metadata": {},
     "output_type": "execute_result"
    }
   ],
   "source": [
    "data.head()\n"
   ]
  },
  {
   "cell_type": "code",
   "execution_count": 6,
   "metadata": {},
   "outputs": [
    {
     "data": {
      "text/plain": [
       "(284807, 31)"
      ]
     },
     "execution_count": 6,
     "metadata": {},
     "output_type": "execute_result"
    }
   ],
   "source": [
    "data.shape\n"
   ]
  },
  {
   "cell_type": "code",
   "execution_count": 7,
   "metadata": {},
   "outputs": [
    {
     "data": {
      "text/plain": [
       "Index(['Time', 'V1', 'V2', 'V3', 'V4', 'V5', 'V6', 'V7', 'V8', 'V9', 'V10',\n",
       "       'V11', 'V12', 'V13', 'V14', 'V15', 'V16', 'V17', 'V18', 'V19', 'V20',\n",
       "       'V21', 'V22', 'V23', 'V24', 'V25', 'V26', 'V27', 'V28', 'Amount',\n",
       "       'Class'],\n",
       "      dtype='object')"
      ]
     },
     "execution_count": 7,
     "metadata": {},
     "output_type": "execute_result"
    }
   ],
   "source": [
    "data.columns"
   ]
  },
  {
   "cell_type": "code",
   "execution_count": 8,
   "metadata": {},
   "outputs": [
    {
     "name": "stdout",
     "output_type": "stream",
     "text": [
      "<class 'pandas.core.frame.DataFrame'>\n",
      "RangeIndex: 284807 entries, 0 to 284806\n",
      "Data columns (total 31 columns):\n",
      " #   Column  Non-Null Count   Dtype  \n",
      "---  ------  --------------   -----  \n",
      " 0   Time    284807 non-null  float64\n",
      " 1   V1      284807 non-null  float64\n",
      " 2   V2      284807 non-null  float64\n",
      " 3   V3      284807 non-null  float64\n",
      " 4   V4      284807 non-null  float64\n",
      " 5   V5      284807 non-null  float64\n",
      " 6   V6      284807 non-null  float64\n",
      " 7   V7      284807 non-null  float64\n",
      " 8   V8      284807 non-null  float64\n",
      " 9   V9      284807 non-null  float64\n",
      " 10  V10     284807 non-null  float64\n",
      " 11  V11     284807 non-null  float64\n",
      " 12  V12     284807 non-null  float64\n",
      " 13  V13     284807 non-null  float64\n",
      " 14  V14     284807 non-null  float64\n",
      " 15  V15     284807 non-null  float64\n",
      " 16  V16     284807 non-null  float64\n",
      " 17  V17     284807 non-null  float64\n",
      " 18  V18     284807 non-null  float64\n",
      " 19  V19     284807 non-null  float64\n",
      " 20  V20     284807 non-null  float64\n",
      " 21  V21     284807 non-null  float64\n",
      " 22  V22     284807 non-null  float64\n",
      " 23  V23     284807 non-null  float64\n",
      " 24  V24     284807 non-null  float64\n",
      " 25  V25     284807 non-null  float64\n",
      " 26  V26     284807 non-null  float64\n",
      " 27  V27     284807 non-null  float64\n",
      " 28  V28     284807 non-null  float64\n",
      " 29  Amount  284807 non-null  float64\n",
      " 30  Class   284807 non-null  int64  \n",
      "dtypes: float64(30), int64(1)\n",
      "memory usage: 67.4 MB\n"
     ]
    }
   ],
   "source": [
    "data.info()\n"
   ]
  },
  {
   "cell_type": "code",
   "execution_count": 9,
   "metadata": {},
   "outputs": [
    {
     "data": {
      "text/html": [
       "<div>\n",
       "<style scoped>\n",
       "    .dataframe tbody tr th:only-of-type {\n",
       "        vertical-align: middle;\n",
       "    }\n",
       "\n",
       "    .dataframe tbody tr th {\n",
       "        vertical-align: top;\n",
       "    }\n",
       "\n",
       "    .dataframe thead th {\n",
       "        text-align: right;\n",
       "    }\n",
       "</style>\n",
       "<table border=\"1\" class=\"dataframe\">\n",
       "  <thead>\n",
       "    <tr style=\"text-align: right;\">\n",
       "      <th></th>\n",
       "      <th>Time</th>\n",
       "      <th>V1</th>\n",
       "      <th>V2</th>\n",
       "      <th>V3</th>\n",
       "      <th>V4</th>\n",
       "      <th>V5</th>\n",
       "      <th>V6</th>\n",
       "      <th>V7</th>\n",
       "      <th>V8</th>\n",
       "      <th>V9</th>\n",
       "      <th>...</th>\n",
       "      <th>V21</th>\n",
       "      <th>V22</th>\n",
       "      <th>V23</th>\n",
       "      <th>V24</th>\n",
       "      <th>V25</th>\n",
       "      <th>V26</th>\n",
       "      <th>V27</th>\n",
       "      <th>V28</th>\n",
       "      <th>Amount</th>\n",
       "      <th>Class</th>\n",
       "    </tr>\n",
       "  </thead>\n",
       "  <tbody>\n",
       "    <tr>\n",
       "      <th>0</th>\n",
       "      <td>False</td>\n",
       "      <td>False</td>\n",
       "      <td>False</td>\n",
       "      <td>False</td>\n",
       "      <td>False</td>\n",
       "      <td>False</td>\n",
       "      <td>False</td>\n",
       "      <td>False</td>\n",
       "      <td>False</td>\n",
       "      <td>False</td>\n",
       "      <td>...</td>\n",
       "      <td>False</td>\n",
       "      <td>False</td>\n",
       "      <td>False</td>\n",
       "      <td>False</td>\n",
       "      <td>False</td>\n",
       "      <td>False</td>\n",
       "      <td>False</td>\n",
       "      <td>False</td>\n",
       "      <td>False</td>\n",
       "      <td>False</td>\n",
       "    </tr>\n",
       "    <tr>\n",
       "      <th>1</th>\n",
       "      <td>False</td>\n",
       "      <td>False</td>\n",
       "      <td>False</td>\n",
       "      <td>False</td>\n",
       "      <td>False</td>\n",
       "      <td>False</td>\n",
       "      <td>False</td>\n",
       "      <td>False</td>\n",
       "      <td>False</td>\n",
       "      <td>False</td>\n",
       "      <td>...</td>\n",
       "      <td>False</td>\n",
       "      <td>False</td>\n",
       "      <td>False</td>\n",
       "      <td>False</td>\n",
       "      <td>False</td>\n",
       "      <td>False</td>\n",
       "      <td>False</td>\n",
       "      <td>False</td>\n",
       "      <td>False</td>\n",
       "      <td>False</td>\n",
       "    </tr>\n",
       "    <tr>\n",
       "      <th>2</th>\n",
       "      <td>False</td>\n",
       "      <td>False</td>\n",
       "      <td>False</td>\n",
       "      <td>False</td>\n",
       "      <td>False</td>\n",
       "      <td>False</td>\n",
       "      <td>False</td>\n",
       "      <td>False</td>\n",
       "      <td>False</td>\n",
       "      <td>False</td>\n",
       "      <td>...</td>\n",
       "      <td>False</td>\n",
       "      <td>False</td>\n",
       "      <td>False</td>\n",
       "      <td>False</td>\n",
       "      <td>False</td>\n",
       "      <td>False</td>\n",
       "      <td>False</td>\n",
       "      <td>False</td>\n",
       "      <td>False</td>\n",
       "      <td>False</td>\n",
       "    </tr>\n",
       "    <tr>\n",
       "      <th>3</th>\n",
       "      <td>False</td>\n",
       "      <td>False</td>\n",
       "      <td>False</td>\n",
       "      <td>False</td>\n",
       "      <td>False</td>\n",
       "      <td>False</td>\n",
       "      <td>False</td>\n",
       "      <td>False</td>\n",
       "      <td>False</td>\n",
       "      <td>False</td>\n",
       "      <td>...</td>\n",
       "      <td>False</td>\n",
       "      <td>False</td>\n",
       "      <td>False</td>\n",
       "      <td>False</td>\n",
       "      <td>False</td>\n",
       "      <td>False</td>\n",
       "      <td>False</td>\n",
       "      <td>False</td>\n",
       "      <td>False</td>\n",
       "      <td>False</td>\n",
       "    </tr>\n",
       "    <tr>\n",
       "      <th>4</th>\n",
       "      <td>False</td>\n",
       "      <td>False</td>\n",
       "      <td>False</td>\n",
       "      <td>False</td>\n",
       "      <td>False</td>\n",
       "      <td>False</td>\n",
       "      <td>False</td>\n",
       "      <td>False</td>\n",
       "      <td>False</td>\n",
       "      <td>False</td>\n",
       "      <td>...</td>\n",
       "      <td>False</td>\n",
       "      <td>False</td>\n",
       "      <td>False</td>\n",
       "      <td>False</td>\n",
       "      <td>False</td>\n",
       "      <td>False</td>\n",
       "      <td>False</td>\n",
       "      <td>False</td>\n",
       "      <td>False</td>\n",
       "      <td>False</td>\n",
       "    </tr>\n",
       "    <tr>\n",
       "      <th>...</th>\n",
       "      <td>...</td>\n",
       "      <td>...</td>\n",
       "      <td>...</td>\n",
       "      <td>...</td>\n",
       "      <td>...</td>\n",
       "      <td>...</td>\n",
       "      <td>...</td>\n",
       "      <td>...</td>\n",
       "      <td>...</td>\n",
       "      <td>...</td>\n",
       "      <td>...</td>\n",
       "      <td>...</td>\n",
       "      <td>...</td>\n",
       "      <td>...</td>\n",
       "      <td>...</td>\n",
       "      <td>...</td>\n",
       "      <td>...</td>\n",
       "      <td>...</td>\n",
       "      <td>...</td>\n",
       "      <td>...</td>\n",
       "      <td>...</td>\n",
       "    </tr>\n",
       "    <tr>\n",
       "      <th>284802</th>\n",
       "      <td>False</td>\n",
       "      <td>False</td>\n",
       "      <td>False</td>\n",
       "      <td>False</td>\n",
       "      <td>False</td>\n",
       "      <td>False</td>\n",
       "      <td>False</td>\n",
       "      <td>False</td>\n",
       "      <td>False</td>\n",
       "      <td>False</td>\n",
       "      <td>...</td>\n",
       "      <td>False</td>\n",
       "      <td>False</td>\n",
       "      <td>False</td>\n",
       "      <td>False</td>\n",
       "      <td>False</td>\n",
       "      <td>False</td>\n",
       "      <td>False</td>\n",
       "      <td>False</td>\n",
       "      <td>False</td>\n",
       "      <td>False</td>\n",
       "    </tr>\n",
       "    <tr>\n",
       "      <th>284803</th>\n",
       "      <td>False</td>\n",
       "      <td>False</td>\n",
       "      <td>False</td>\n",
       "      <td>False</td>\n",
       "      <td>False</td>\n",
       "      <td>False</td>\n",
       "      <td>False</td>\n",
       "      <td>False</td>\n",
       "      <td>False</td>\n",
       "      <td>False</td>\n",
       "      <td>...</td>\n",
       "      <td>False</td>\n",
       "      <td>False</td>\n",
       "      <td>False</td>\n",
       "      <td>False</td>\n",
       "      <td>False</td>\n",
       "      <td>False</td>\n",
       "      <td>False</td>\n",
       "      <td>False</td>\n",
       "      <td>False</td>\n",
       "      <td>False</td>\n",
       "    </tr>\n",
       "    <tr>\n",
       "      <th>284804</th>\n",
       "      <td>False</td>\n",
       "      <td>False</td>\n",
       "      <td>False</td>\n",
       "      <td>False</td>\n",
       "      <td>False</td>\n",
       "      <td>False</td>\n",
       "      <td>False</td>\n",
       "      <td>False</td>\n",
       "      <td>False</td>\n",
       "      <td>False</td>\n",
       "      <td>...</td>\n",
       "      <td>False</td>\n",
       "      <td>False</td>\n",
       "      <td>False</td>\n",
       "      <td>False</td>\n",
       "      <td>False</td>\n",
       "      <td>False</td>\n",
       "      <td>False</td>\n",
       "      <td>False</td>\n",
       "      <td>False</td>\n",
       "      <td>False</td>\n",
       "    </tr>\n",
       "    <tr>\n",
       "      <th>284805</th>\n",
       "      <td>False</td>\n",
       "      <td>False</td>\n",
       "      <td>False</td>\n",
       "      <td>False</td>\n",
       "      <td>False</td>\n",
       "      <td>False</td>\n",
       "      <td>False</td>\n",
       "      <td>False</td>\n",
       "      <td>False</td>\n",
       "      <td>False</td>\n",
       "      <td>...</td>\n",
       "      <td>False</td>\n",
       "      <td>False</td>\n",
       "      <td>False</td>\n",
       "      <td>False</td>\n",
       "      <td>False</td>\n",
       "      <td>False</td>\n",
       "      <td>False</td>\n",
       "      <td>False</td>\n",
       "      <td>False</td>\n",
       "      <td>False</td>\n",
       "    </tr>\n",
       "    <tr>\n",
       "      <th>284806</th>\n",
       "      <td>False</td>\n",
       "      <td>False</td>\n",
       "      <td>False</td>\n",
       "      <td>False</td>\n",
       "      <td>False</td>\n",
       "      <td>False</td>\n",
       "      <td>False</td>\n",
       "      <td>False</td>\n",
       "      <td>False</td>\n",
       "      <td>False</td>\n",
       "      <td>...</td>\n",
       "      <td>False</td>\n",
       "      <td>False</td>\n",
       "      <td>False</td>\n",
       "      <td>False</td>\n",
       "      <td>False</td>\n",
       "      <td>False</td>\n",
       "      <td>False</td>\n",
       "      <td>False</td>\n",
       "      <td>False</td>\n",
       "      <td>False</td>\n",
       "    </tr>\n",
       "  </tbody>\n",
       "</table>\n",
       "<p>284807 rows × 31 columns</p>\n",
       "</div>"
      ],
      "text/plain": [
       "         Time     V1     V2     V3     V4     V5     V6     V7     V8     V9  \\\n",
       "0       False  False  False  False  False  False  False  False  False  False   \n",
       "1       False  False  False  False  False  False  False  False  False  False   \n",
       "2       False  False  False  False  False  False  False  False  False  False   \n",
       "3       False  False  False  False  False  False  False  False  False  False   \n",
       "4       False  False  False  False  False  False  False  False  False  False   \n",
       "...       ...    ...    ...    ...    ...    ...    ...    ...    ...    ...   \n",
       "284802  False  False  False  False  False  False  False  False  False  False   \n",
       "284803  False  False  False  False  False  False  False  False  False  False   \n",
       "284804  False  False  False  False  False  False  False  False  False  False   \n",
       "284805  False  False  False  False  False  False  False  False  False  False   \n",
       "284806  False  False  False  False  False  False  False  False  False  False   \n",
       "\n",
       "        ...    V21    V22    V23    V24    V25    V26    V27    V28  Amount  \\\n",
       "0       ...  False  False  False  False  False  False  False  False   False   \n",
       "1       ...  False  False  False  False  False  False  False  False   False   \n",
       "2       ...  False  False  False  False  False  False  False  False   False   \n",
       "3       ...  False  False  False  False  False  False  False  False   False   \n",
       "4       ...  False  False  False  False  False  False  False  False   False   \n",
       "...     ...    ...    ...    ...    ...    ...    ...    ...    ...     ...   \n",
       "284802  ...  False  False  False  False  False  False  False  False   False   \n",
       "284803  ...  False  False  False  False  False  False  False  False   False   \n",
       "284804  ...  False  False  False  False  False  False  False  False   False   \n",
       "284805  ...  False  False  False  False  False  False  False  False   False   \n",
       "284806  ...  False  False  False  False  False  False  False  False   False   \n",
       "\n",
       "        Class  \n",
       "0       False  \n",
       "1       False  \n",
       "2       False  \n",
       "3       False  \n",
       "4       False  \n",
       "...       ...  \n",
       "284802  False  \n",
       "284803  False  \n",
       "284804  False  \n",
       "284805  False  \n",
       "284806  False  \n",
       "\n",
       "[284807 rows x 31 columns]"
      ]
     },
     "execution_count": 9,
     "metadata": {},
     "output_type": "execute_result"
    }
   ],
   "source": [
    "data.isnull()\n"
   ]
  },
  {
   "cell_type": "code",
   "execution_count": 10,
   "metadata": {},
   "outputs": [
    {
     "data": {
      "text/html": [
       "<div>\n",
       "<style scoped>\n",
       "    .dataframe tbody tr th:only-of-type {\n",
       "        vertical-align: middle;\n",
       "    }\n",
       "\n",
       "    .dataframe tbody tr th {\n",
       "        vertical-align: top;\n",
       "    }\n",
       "\n",
       "    .dataframe thead th {\n",
       "        text-align: right;\n",
       "    }\n",
       "</style>\n",
       "<table border=\"1\" class=\"dataframe\">\n",
       "  <thead>\n",
       "    <tr style=\"text-align: right;\">\n",
       "      <th></th>\n",
       "      <th>Time</th>\n",
       "      <th>V1</th>\n",
       "      <th>V2</th>\n",
       "      <th>V3</th>\n",
       "      <th>V4</th>\n",
       "      <th>V5</th>\n",
       "      <th>V6</th>\n",
       "      <th>V7</th>\n",
       "      <th>V8</th>\n",
       "      <th>V9</th>\n",
       "      <th>...</th>\n",
       "      <th>V21</th>\n",
       "      <th>V22</th>\n",
       "      <th>V23</th>\n",
       "      <th>V24</th>\n",
       "      <th>V25</th>\n",
       "      <th>V26</th>\n",
       "      <th>V27</th>\n",
       "      <th>V28</th>\n",
       "      <th>Amount</th>\n",
       "      <th>Class</th>\n",
       "    </tr>\n",
       "  </thead>\n",
       "  <tbody>\n",
       "    <tr>\n",
       "      <th>count</th>\n",
       "      <td>284807.000000</td>\n",
       "      <td>2.848070e+05</td>\n",
       "      <td>2.848070e+05</td>\n",
       "      <td>2.848070e+05</td>\n",
       "      <td>2.848070e+05</td>\n",
       "      <td>2.848070e+05</td>\n",
       "      <td>2.848070e+05</td>\n",
       "      <td>2.848070e+05</td>\n",
       "      <td>2.848070e+05</td>\n",
       "      <td>2.848070e+05</td>\n",
       "      <td>...</td>\n",
       "      <td>2.848070e+05</td>\n",
       "      <td>2.848070e+05</td>\n",
       "      <td>2.848070e+05</td>\n",
       "      <td>2.848070e+05</td>\n",
       "      <td>2.848070e+05</td>\n",
       "      <td>2.848070e+05</td>\n",
       "      <td>2.848070e+05</td>\n",
       "      <td>2.848070e+05</td>\n",
       "      <td>284807.000000</td>\n",
       "      <td>284807.000000</td>\n",
       "    </tr>\n",
       "    <tr>\n",
       "      <th>mean</th>\n",
       "      <td>94813.859575</td>\n",
       "      <td>1.168375e-15</td>\n",
       "      <td>3.416908e-16</td>\n",
       "      <td>-1.379537e-15</td>\n",
       "      <td>2.074095e-15</td>\n",
       "      <td>9.604066e-16</td>\n",
       "      <td>1.487313e-15</td>\n",
       "      <td>-5.556467e-16</td>\n",
       "      <td>1.213481e-16</td>\n",
       "      <td>-2.406331e-15</td>\n",
       "      <td>...</td>\n",
       "      <td>1.654067e-16</td>\n",
       "      <td>-3.568593e-16</td>\n",
       "      <td>2.578648e-16</td>\n",
       "      <td>4.473266e-15</td>\n",
       "      <td>5.340915e-16</td>\n",
       "      <td>1.683437e-15</td>\n",
       "      <td>-3.660091e-16</td>\n",
       "      <td>-1.227390e-16</td>\n",
       "      <td>88.349619</td>\n",
       "      <td>0.001727</td>\n",
       "    </tr>\n",
       "    <tr>\n",
       "      <th>std</th>\n",
       "      <td>47488.145955</td>\n",
       "      <td>1.958696e+00</td>\n",
       "      <td>1.651309e+00</td>\n",
       "      <td>1.516255e+00</td>\n",
       "      <td>1.415869e+00</td>\n",
       "      <td>1.380247e+00</td>\n",
       "      <td>1.332271e+00</td>\n",
       "      <td>1.237094e+00</td>\n",
       "      <td>1.194353e+00</td>\n",
       "      <td>1.098632e+00</td>\n",
       "      <td>...</td>\n",
       "      <td>7.345240e-01</td>\n",
       "      <td>7.257016e-01</td>\n",
       "      <td>6.244603e-01</td>\n",
       "      <td>6.056471e-01</td>\n",
       "      <td>5.212781e-01</td>\n",
       "      <td>4.822270e-01</td>\n",
       "      <td>4.036325e-01</td>\n",
       "      <td>3.300833e-01</td>\n",
       "      <td>250.120109</td>\n",
       "      <td>0.041527</td>\n",
       "    </tr>\n",
       "    <tr>\n",
       "      <th>min</th>\n",
       "      <td>0.000000</td>\n",
       "      <td>-5.640751e+01</td>\n",
       "      <td>-7.271573e+01</td>\n",
       "      <td>-4.832559e+01</td>\n",
       "      <td>-5.683171e+00</td>\n",
       "      <td>-1.137433e+02</td>\n",
       "      <td>-2.616051e+01</td>\n",
       "      <td>-4.355724e+01</td>\n",
       "      <td>-7.321672e+01</td>\n",
       "      <td>-1.343407e+01</td>\n",
       "      <td>...</td>\n",
       "      <td>-3.483038e+01</td>\n",
       "      <td>-1.093314e+01</td>\n",
       "      <td>-4.480774e+01</td>\n",
       "      <td>-2.836627e+00</td>\n",
       "      <td>-1.029540e+01</td>\n",
       "      <td>-2.604551e+00</td>\n",
       "      <td>-2.256568e+01</td>\n",
       "      <td>-1.543008e+01</td>\n",
       "      <td>0.000000</td>\n",
       "      <td>0.000000</td>\n",
       "    </tr>\n",
       "    <tr>\n",
       "      <th>25%</th>\n",
       "      <td>54201.500000</td>\n",
       "      <td>-9.203734e-01</td>\n",
       "      <td>-5.985499e-01</td>\n",
       "      <td>-8.903648e-01</td>\n",
       "      <td>-8.486401e-01</td>\n",
       "      <td>-6.915971e-01</td>\n",
       "      <td>-7.682956e-01</td>\n",
       "      <td>-5.540759e-01</td>\n",
       "      <td>-2.086297e-01</td>\n",
       "      <td>-6.430976e-01</td>\n",
       "      <td>...</td>\n",
       "      <td>-2.283949e-01</td>\n",
       "      <td>-5.423504e-01</td>\n",
       "      <td>-1.618463e-01</td>\n",
       "      <td>-3.545861e-01</td>\n",
       "      <td>-3.171451e-01</td>\n",
       "      <td>-3.269839e-01</td>\n",
       "      <td>-7.083953e-02</td>\n",
       "      <td>-5.295979e-02</td>\n",
       "      <td>5.600000</td>\n",
       "      <td>0.000000</td>\n",
       "    </tr>\n",
       "    <tr>\n",
       "      <th>50%</th>\n",
       "      <td>84692.000000</td>\n",
       "      <td>1.810880e-02</td>\n",
       "      <td>6.548556e-02</td>\n",
       "      <td>1.798463e-01</td>\n",
       "      <td>-1.984653e-02</td>\n",
       "      <td>-5.433583e-02</td>\n",
       "      <td>-2.741871e-01</td>\n",
       "      <td>4.010308e-02</td>\n",
       "      <td>2.235804e-02</td>\n",
       "      <td>-5.142873e-02</td>\n",
       "      <td>...</td>\n",
       "      <td>-2.945017e-02</td>\n",
       "      <td>6.781943e-03</td>\n",
       "      <td>-1.119293e-02</td>\n",
       "      <td>4.097606e-02</td>\n",
       "      <td>1.659350e-02</td>\n",
       "      <td>-5.213911e-02</td>\n",
       "      <td>1.342146e-03</td>\n",
       "      <td>1.124383e-02</td>\n",
       "      <td>22.000000</td>\n",
       "      <td>0.000000</td>\n",
       "    </tr>\n",
       "    <tr>\n",
       "      <th>75%</th>\n",
       "      <td>139320.500000</td>\n",
       "      <td>1.315642e+00</td>\n",
       "      <td>8.037239e-01</td>\n",
       "      <td>1.027196e+00</td>\n",
       "      <td>7.433413e-01</td>\n",
       "      <td>6.119264e-01</td>\n",
       "      <td>3.985649e-01</td>\n",
       "      <td>5.704361e-01</td>\n",
       "      <td>3.273459e-01</td>\n",
       "      <td>5.971390e-01</td>\n",
       "      <td>...</td>\n",
       "      <td>1.863772e-01</td>\n",
       "      <td>5.285536e-01</td>\n",
       "      <td>1.476421e-01</td>\n",
       "      <td>4.395266e-01</td>\n",
       "      <td>3.507156e-01</td>\n",
       "      <td>2.409522e-01</td>\n",
       "      <td>9.104512e-02</td>\n",
       "      <td>7.827995e-02</td>\n",
       "      <td>77.165000</td>\n",
       "      <td>0.000000</td>\n",
       "    </tr>\n",
       "    <tr>\n",
       "      <th>max</th>\n",
       "      <td>172792.000000</td>\n",
       "      <td>2.454930e+00</td>\n",
       "      <td>2.205773e+01</td>\n",
       "      <td>9.382558e+00</td>\n",
       "      <td>1.687534e+01</td>\n",
       "      <td>3.480167e+01</td>\n",
       "      <td>7.330163e+01</td>\n",
       "      <td>1.205895e+02</td>\n",
       "      <td>2.000721e+01</td>\n",
       "      <td>1.559499e+01</td>\n",
       "      <td>...</td>\n",
       "      <td>2.720284e+01</td>\n",
       "      <td>1.050309e+01</td>\n",
       "      <td>2.252841e+01</td>\n",
       "      <td>4.584549e+00</td>\n",
       "      <td>7.519589e+00</td>\n",
       "      <td>3.517346e+00</td>\n",
       "      <td>3.161220e+01</td>\n",
       "      <td>3.384781e+01</td>\n",
       "      <td>25691.160000</td>\n",
       "      <td>1.000000</td>\n",
       "    </tr>\n",
       "  </tbody>\n",
       "</table>\n",
       "<p>8 rows × 31 columns</p>\n",
       "</div>"
      ],
      "text/plain": [
       "                Time            V1            V2            V3            V4  \\\n",
       "count  284807.000000  2.848070e+05  2.848070e+05  2.848070e+05  2.848070e+05   \n",
       "mean    94813.859575  1.168375e-15  3.416908e-16 -1.379537e-15  2.074095e-15   \n",
       "std     47488.145955  1.958696e+00  1.651309e+00  1.516255e+00  1.415869e+00   \n",
       "min         0.000000 -5.640751e+01 -7.271573e+01 -4.832559e+01 -5.683171e+00   \n",
       "25%     54201.500000 -9.203734e-01 -5.985499e-01 -8.903648e-01 -8.486401e-01   \n",
       "50%     84692.000000  1.810880e-02  6.548556e-02  1.798463e-01 -1.984653e-02   \n",
       "75%    139320.500000  1.315642e+00  8.037239e-01  1.027196e+00  7.433413e-01   \n",
       "max    172792.000000  2.454930e+00  2.205773e+01  9.382558e+00  1.687534e+01   \n",
       "\n",
       "                 V5            V6            V7            V8            V9  \\\n",
       "count  2.848070e+05  2.848070e+05  2.848070e+05  2.848070e+05  2.848070e+05   \n",
       "mean   9.604066e-16  1.487313e-15 -5.556467e-16  1.213481e-16 -2.406331e-15   \n",
       "std    1.380247e+00  1.332271e+00  1.237094e+00  1.194353e+00  1.098632e+00   \n",
       "min   -1.137433e+02 -2.616051e+01 -4.355724e+01 -7.321672e+01 -1.343407e+01   \n",
       "25%   -6.915971e-01 -7.682956e-01 -5.540759e-01 -2.086297e-01 -6.430976e-01   \n",
       "50%   -5.433583e-02 -2.741871e-01  4.010308e-02  2.235804e-02 -5.142873e-02   \n",
       "75%    6.119264e-01  3.985649e-01  5.704361e-01  3.273459e-01  5.971390e-01   \n",
       "max    3.480167e+01  7.330163e+01  1.205895e+02  2.000721e+01  1.559499e+01   \n",
       "\n",
       "       ...           V21           V22           V23           V24  \\\n",
       "count  ...  2.848070e+05  2.848070e+05  2.848070e+05  2.848070e+05   \n",
       "mean   ...  1.654067e-16 -3.568593e-16  2.578648e-16  4.473266e-15   \n",
       "std    ...  7.345240e-01  7.257016e-01  6.244603e-01  6.056471e-01   \n",
       "min    ... -3.483038e+01 -1.093314e+01 -4.480774e+01 -2.836627e+00   \n",
       "25%    ... -2.283949e-01 -5.423504e-01 -1.618463e-01 -3.545861e-01   \n",
       "50%    ... -2.945017e-02  6.781943e-03 -1.119293e-02  4.097606e-02   \n",
       "75%    ...  1.863772e-01  5.285536e-01  1.476421e-01  4.395266e-01   \n",
       "max    ...  2.720284e+01  1.050309e+01  2.252841e+01  4.584549e+00   \n",
       "\n",
       "                V25           V26           V27           V28         Amount  \\\n",
       "count  2.848070e+05  2.848070e+05  2.848070e+05  2.848070e+05  284807.000000   \n",
       "mean   5.340915e-16  1.683437e-15 -3.660091e-16 -1.227390e-16      88.349619   \n",
       "std    5.212781e-01  4.822270e-01  4.036325e-01  3.300833e-01     250.120109   \n",
       "min   -1.029540e+01 -2.604551e+00 -2.256568e+01 -1.543008e+01       0.000000   \n",
       "25%   -3.171451e-01 -3.269839e-01 -7.083953e-02 -5.295979e-02       5.600000   \n",
       "50%    1.659350e-02 -5.213911e-02  1.342146e-03  1.124383e-02      22.000000   \n",
       "75%    3.507156e-01  2.409522e-01  9.104512e-02  7.827995e-02      77.165000   \n",
       "max    7.519589e+00  3.517346e+00  3.161220e+01  3.384781e+01   25691.160000   \n",
       "\n",
       "               Class  \n",
       "count  284807.000000  \n",
       "mean        0.001727  \n",
       "std         0.041527  \n",
       "min         0.000000  \n",
       "25%         0.000000  \n",
       "50%         0.000000  \n",
       "75%         0.000000  \n",
       "max         1.000000  \n",
       "\n",
       "[8 rows x 31 columns]"
      ]
     },
     "execution_count": 10,
     "metadata": {},
     "output_type": "execute_result"
    }
   ],
   "source": [
    "data.describe()"
   ]
  },
  {
   "cell_type": "code",
   "execution_count": 11,
   "metadata": {},
   "outputs": [
    {
     "data": {
      "application/vnd.plotly.v1+json": {
       "config": {
        "plotlyServerURL": "https://plot.ly"
       },
       "data": [
        {
         "domain": {
          "x": [
           0,
           0.45
          ],
          "y": [
           0,
           1
          ]
         },
         "insidetextorientation": "radial",
         "labels": [
          "No Fraud",
          "Fraud"
         ],
         "marker": {
          "colors": [
           "#ff9999",
           "#66b3ff"
          ],
          "line": {
           "color": "black",
           "width": 1
          }
         },
         "textinfo": "label+percent",
         "type": "pie",
         "values": [
          99.82725143693798,
          0.1727485630620034
         ]
        },
        {
         "marker": {
          "color": [
           "#ff9999",
           "#66b3ff"
          ]
         },
         "text": [
          284315,
          492
         ],
         "textposition": "outside",
         "type": "bar",
         "x": [
          0,
          1
         ],
         "xaxis": "x",
         "y": [
          284315,
          492
         ],
         "yaxis": "y"
        }
       ],
       "layout": {
        "annotations": [
         {
          "font": {
           "size": 20
          },
          "showarrow": false,
          "text": "Pie Chart",
          "x": 0.18,
          "xanchor": "center",
          "xref": "paper",
          "y": 1.1,
          "yanchor": "bottom",
          "yref": "paper"
         },
         {
          "font": {
           "size": 20
          },
          "showarrow": false,
          "text": "Bar Chart",
          "x": 0.82,
          "xanchor": "center",
          "xref": "paper",
          "y": 1.1,
          "yanchor": "bottom",
          "yref": "paper"
         }
        ],
        "showlegend": false,
        "template": {
         "data": {
          "bar": [
           {
            "error_x": {
             "color": "#2a3f5f"
            },
            "error_y": {
             "color": "#2a3f5f"
            },
            "marker": {
             "line": {
              "color": "#E5ECF6",
              "width": 0.5
             },
             "pattern": {
              "fillmode": "overlay",
              "size": 10,
              "solidity": 0.2
             }
            },
            "type": "bar"
           }
          ],
          "barpolar": [
           {
            "marker": {
             "line": {
              "color": "#E5ECF6",
              "width": 0.5
             },
             "pattern": {
              "fillmode": "overlay",
              "size": 10,
              "solidity": 0.2
             }
            },
            "type": "barpolar"
           }
          ],
          "carpet": [
           {
            "aaxis": {
             "endlinecolor": "#2a3f5f",
             "gridcolor": "white",
             "linecolor": "white",
             "minorgridcolor": "white",
             "startlinecolor": "#2a3f5f"
            },
            "baxis": {
             "endlinecolor": "#2a3f5f",
             "gridcolor": "white",
             "linecolor": "white",
             "minorgridcolor": "white",
             "startlinecolor": "#2a3f5f"
            },
            "type": "carpet"
           }
          ],
          "choropleth": [
           {
            "colorbar": {
             "outlinewidth": 0,
             "ticks": ""
            },
            "type": "choropleth"
           }
          ],
          "contour": [
           {
            "colorbar": {
             "outlinewidth": 0,
             "ticks": ""
            },
            "colorscale": [
             [
              0,
              "#0d0887"
             ],
             [
              0.1111111111111111,
              "#46039f"
             ],
             [
              0.2222222222222222,
              "#7201a8"
             ],
             [
              0.3333333333333333,
              "#9c179e"
             ],
             [
              0.4444444444444444,
              "#bd3786"
             ],
             [
              0.5555555555555556,
              "#d8576b"
             ],
             [
              0.6666666666666666,
              "#ed7953"
             ],
             [
              0.7777777777777778,
              "#fb9f3a"
             ],
             [
              0.8888888888888888,
              "#fdca26"
             ],
             [
              1,
              "#f0f921"
             ]
            ],
            "type": "contour"
           }
          ],
          "contourcarpet": [
           {
            "colorbar": {
             "outlinewidth": 0,
             "ticks": ""
            },
            "type": "contourcarpet"
           }
          ],
          "heatmap": [
           {
            "colorbar": {
             "outlinewidth": 0,
             "ticks": ""
            },
            "colorscale": [
             [
              0,
              "#0d0887"
             ],
             [
              0.1111111111111111,
              "#46039f"
             ],
             [
              0.2222222222222222,
              "#7201a8"
             ],
             [
              0.3333333333333333,
              "#9c179e"
             ],
             [
              0.4444444444444444,
              "#bd3786"
             ],
             [
              0.5555555555555556,
              "#d8576b"
             ],
             [
              0.6666666666666666,
              "#ed7953"
             ],
             [
              0.7777777777777778,
              "#fb9f3a"
             ],
             [
              0.8888888888888888,
              "#fdca26"
             ],
             [
              1,
              "#f0f921"
             ]
            ],
            "type": "heatmap"
           }
          ],
          "heatmapgl": [
           {
            "colorbar": {
             "outlinewidth": 0,
             "ticks": ""
            },
            "colorscale": [
             [
              0,
              "#0d0887"
             ],
             [
              0.1111111111111111,
              "#46039f"
             ],
             [
              0.2222222222222222,
              "#7201a8"
             ],
             [
              0.3333333333333333,
              "#9c179e"
             ],
             [
              0.4444444444444444,
              "#bd3786"
             ],
             [
              0.5555555555555556,
              "#d8576b"
             ],
             [
              0.6666666666666666,
              "#ed7953"
             ],
             [
              0.7777777777777778,
              "#fb9f3a"
             ],
             [
              0.8888888888888888,
              "#fdca26"
             ],
             [
              1,
              "#f0f921"
             ]
            ],
            "type": "heatmapgl"
           }
          ],
          "histogram": [
           {
            "marker": {
             "pattern": {
              "fillmode": "overlay",
              "size": 10,
              "solidity": 0.2
             }
            },
            "type": "histogram"
           }
          ],
          "histogram2d": [
           {
            "colorbar": {
             "outlinewidth": 0,
             "ticks": ""
            },
            "colorscale": [
             [
              0,
              "#0d0887"
             ],
             [
              0.1111111111111111,
              "#46039f"
             ],
             [
              0.2222222222222222,
              "#7201a8"
             ],
             [
              0.3333333333333333,
              "#9c179e"
             ],
             [
              0.4444444444444444,
              "#bd3786"
             ],
             [
              0.5555555555555556,
              "#d8576b"
             ],
             [
              0.6666666666666666,
              "#ed7953"
             ],
             [
              0.7777777777777778,
              "#fb9f3a"
             ],
             [
              0.8888888888888888,
              "#fdca26"
             ],
             [
              1,
              "#f0f921"
             ]
            ],
            "type": "histogram2d"
           }
          ],
          "histogram2dcontour": [
           {
            "colorbar": {
             "outlinewidth": 0,
             "ticks": ""
            },
            "colorscale": [
             [
              0,
              "#0d0887"
             ],
             [
              0.1111111111111111,
              "#46039f"
             ],
             [
              0.2222222222222222,
              "#7201a8"
             ],
             [
              0.3333333333333333,
              "#9c179e"
             ],
             [
              0.4444444444444444,
              "#bd3786"
             ],
             [
              0.5555555555555556,
              "#d8576b"
             ],
             [
              0.6666666666666666,
              "#ed7953"
             ],
             [
              0.7777777777777778,
              "#fb9f3a"
             ],
             [
              0.8888888888888888,
              "#fdca26"
             ],
             [
              1,
              "#f0f921"
             ]
            ],
            "type": "histogram2dcontour"
           }
          ],
          "mesh3d": [
           {
            "colorbar": {
             "outlinewidth": 0,
             "ticks": ""
            },
            "type": "mesh3d"
           }
          ],
          "parcoords": [
           {
            "line": {
             "colorbar": {
              "outlinewidth": 0,
              "ticks": ""
             }
            },
            "type": "parcoords"
           }
          ],
          "pie": [
           {
            "automargin": true,
            "type": "pie"
           }
          ],
          "scatter": [
           {
            "fillpattern": {
             "fillmode": "overlay",
             "size": 10,
             "solidity": 0.2
            },
            "type": "scatter"
           }
          ],
          "scatter3d": [
           {
            "line": {
             "colorbar": {
              "outlinewidth": 0,
              "ticks": ""
             }
            },
            "marker": {
             "colorbar": {
              "outlinewidth": 0,
              "ticks": ""
             }
            },
            "type": "scatter3d"
           }
          ],
          "scattercarpet": [
           {
            "marker": {
             "colorbar": {
              "outlinewidth": 0,
              "ticks": ""
             }
            },
            "type": "scattercarpet"
           }
          ],
          "scattergeo": [
           {
            "marker": {
             "colorbar": {
              "outlinewidth": 0,
              "ticks": ""
             }
            },
            "type": "scattergeo"
           }
          ],
          "scattergl": [
           {
            "marker": {
             "colorbar": {
              "outlinewidth": 0,
              "ticks": ""
             }
            },
            "type": "scattergl"
           }
          ],
          "scattermapbox": [
           {
            "marker": {
             "colorbar": {
              "outlinewidth": 0,
              "ticks": ""
             }
            },
            "type": "scattermapbox"
           }
          ],
          "scatterpolar": [
           {
            "marker": {
             "colorbar": {
              "outlinewidth": 0,
              "ticks": ""
             }
            },
            "type": "scatterpolar"
           }
          ],
          "scatterpolargl": [
           {
            "marker": {
             "colorbar": {
              "outlinewidth": 0,
              "ticks": ""
             }
            },
            "type": "scatterpolargl"
           }
          ],
          "scatterternary": [
           {
            "marker": {
             "colorbar": {
              "outlinewidth": 0,
              "ticks": ""
             }
            },
            "type": "scatterternary"
           }
          ],
          "surface": [
           {
            "colorbar": {
             "outlinewidth": 0,
             "ticks": ""
            },
            "colorscale": [
             [
              0,
              "#0d0887"
             ],
             [
              0.1111111111111111,
              "#46039f"
             ],
             [
              0.2222222222222222,
              "#7201a8"
             ],
             [
              0.3333333333333333,
              "#9c179e"
             ],
             [
              0.4444444444444444,
              "#bd3786"
             ],
             [
              0.5555555555555556,
              "#d8576b"
             ],
             [
              0.6666666666666666,
              "#ed7953"
             ],
             [
              0.7777777777777778,
              "#fb9f3a"
             ],
             [
              0.8888888888888888,
              "#fdca26"
             ],
             [
              1,
              "#f0f921"
             ]
            ],
            "type": "surface"
           }
          ],
          "table": [
           {
            "cells": {
             "fill": {
              "color": "#EBF0F8"
             },
             "line": {
              "color": "white"
             }
            },
            "header": {
             "fill": {
              "color": "#C8D4E3"
             },
             "line": {
              "color": "white"
             }
            },
            "type": "table"
           }
          ]
         },
         "layout": {
          "annotationdefaults": {
           "arrowcolor": "#2a3f5f",
           "arrowhead": 0,
           "arrowwidth": 1
          },
          "autotypenumbers": "strict",
          "coloraxis": {
           "colorbar": {
            "outlinewidth": 0,
            "ticks": ""
           }
          },
          "colorscale": {
           "diverging": [
            [
             0,
             "#8e0152"
            ],
            [
             0.1,
             "#c51b7d"
            ],
            [
             0.2,
             "#de77ae"
            ],
            [
             0.3,
             "#f1b6da"
            ],
            [
             0.4,
             "#fde0ef"
            ],
            [
             0.5,
             "#f7f7f7"
            ],
            [
             0.6,
             "#e6f5d0"
            ],
            [
             0.7,
             "#b8e186"
            ],
            [
             0.8,
             "#7fbc41"
            ],
            [
             0.9,
             "#4d9221"
            ],
            [
             1,
             "#276419"
            ]
           ],
           "sequential": [
            [
             0,
             "#0d0887"
            ],
            [
             0.1111111111111111,
             "#46039f"
            ],
            [
             0.2222222222222222,
             "#7201a8"
            ],
            [
             0.3333333333333333,
             "#9c179e"
            ],
            [
             0.4444444444444444,
             "#bd3786"
            ],
            [
             0.5555555555555556,
             "#d8576b"
            ],
            [
             0.6666666666666666,
             "#ed7953"
            ],
            [
             0.7777777777777778,
             "#fb9f3a"
            ],
            [
             0.8888888888888888,
             "#fdca26"
            ],
            [
             1,
             "#f0f921"
            ]
           ],
           "sequentialminus": [
            [
             0,
             "#0d0887"
            ],
            [
             0.1111111111111111,
             "#46039f"
            ],
            [
             0.2222222222222222,
             "#7201a8"
            ],
            [
             0.3333333333333333,
             "#9c179e"
            ],
            [
             0.4444444444444444,
             "#bd3786"
            ],
            [
             0.5555555555555556,
             "#d8576b"
            ],
            [
             0.6666666666666666,
             "#ed7953"
            ],
            [
             0.7777777777777778,
             "#fb9f3a"
            ],
            [
             0.8888888888888888,
             "#fdca26"
            ],
            [
             1,
             "#f0f921"
            ]
           ]
          },
          "colorway": [
           "#636efa",
           "#EF553B",
           "#00cc96",
           "#ab63fa",
           "#FFA15A",
           "#19d3f3",
           "#FF6692",
           "#B6E880",
           "#FF97FF",
           "#FECB52"
          ],
          "font": {
           "color": "#2a3f5f"
          },
          "geo": {
           "bgcolor": "white",
           "lakecolor": "white",
           "landcolor": "#E5ECF6",
           "showlakes": true,
           "showland": true,
           "subunitcolor": "white"
          },
          "hoverlabel": {
           "align": "left"
          },
          "hovermode": "closest",
          "mapbox": {
           "style": "light"
          },
          "paper_bgcolor": "white",
          "plot_bgcolor": "#E5ECF6",
          "polar": {
           "angularaxis": {
            "gridcolor": "white",
            "linecolor": "white",
            "ticks": ""
           },
           "bgcolor": "#E5ECF6",
           "radialaxis": {
            "gridcolor": "white",
            "linecolor": "white",
            "ticks": ""
           }
          },
          "scene": {
           "xaxis": {
            "backgroundcolor": "#E5ECF6",
            "gridcolor": "white",
            "gridwidth": 2,
            "linecolor": "white",
            "showbackground": true,
            "ticks": "",
            "zerolinecolor": "white"
           },
           "yaxis": {
            "backgroundcolor": "#E5ECF6",
            "gridcolor": "white",
            "gridwidth": 2,
            "linecolor": "white",
            "showbackground": true,
            "ticks": "",
            "zerolinecolor": "white"
           },
           "zaxis": {
            "backgroundcolor": "#E5ECF6",
            "gridcolor": "white",
            "gridwidth": 2,
            "linecolor": "white",
            "showbackground": true,
            "ticks": "",
            "zerolinecolor": "white"
           }
          },
          "shapedefaults": {
           "line": {
            "color": "#2a3f5f"
           }
          },
          "ternary": {
           "aaxis": {
            "gridcolor": "white",
            "linecolor": "white",
            "ticks": ""
           },
           "baxis": {
            "gridcolor": "white",
            "linecolor": "white",
            "ticks": ""
           },
           "bgcolor": "#E5ECF6",
           "caxis": {
            "gridcolor": "white",
            "linecolor": "white",
            "ticks": ""
           }
          },
          "title": {
           "x": 0.05
          },
          "xaxis": {
           "automargin": true,
           "gridcolor": "white",
           "linecolor": "white",
           "ticks": "",
           "title": {
            "standoff": 15
           },
           "zerolinecolor": "white",
           "zerolinewidth": 2
          },
          "yaxis": {
           "automargin": true,
           "gridcolor": "white",
           "linecolor": "white",
           "ticks": "",
           "title": {
            "standoff": 15
           },
           "zerolinecolor": "white",
           "zerolinewidth": 2
          }
         }
        },
        "title": {
         "text": "Fraud Detection Analysis"
        },
        "xaxis": {
         "anchor": "y",
         "domain": [
          0.55,
          1
         ]
        },
        "yaxis": {
         "anchor": "x",
         "domain": [
          0,
          1
         ]
        }
       }
      }
     },
     "metadata": {},
     "output_type": "display_data"
    }
   ],
   "source": [
    "import plotly.graph_objects as go\n",
    "from plotly.subplots import make_subplots\n",
    "\n",
    "fraud_percentage = len(data[data['Class'] == 1]) / len(data) * 100\n",
    "nofraud_percentage = len(data[data['Class'] == 0]) / len(data) * 100\n",
    "percentages = [nofraud_percentage, fraud_percentage]\n",
    "\n",
    "colors = ['#ff9999', '#66b3ff']\n",
    "\n",
    "pie_chart = go.Pie(labels=['No Fraud', 'Fraud'], values=percentages,\n",
    "                   marker=dict(colors=colors, line=dict(color='black', width=1)),\n",
    "                   textinfo='label+percent', insidetextorientation='radial')\n",
    "\n",
    "fraud_counts = data['Class'].value_counts().reset_index()\n",
    "fraud_counts.columns = ['Class', 'Count']\n",
    "bar_chart = go.Bar(x=fraud_counts['Class'], y=fraud_counts['Count'],\n",
    "                   marker=dict(color=colors), text=fraud_counts['Count'], textposition='outside')\n",
    "\n",
    "fig = make_subplots(rows=1, cols=2, subplot_titles=(\"Pie Chart\", \"Bar Chart\"),\n",
    "                    specs=[[{\"type\": \"domain\"}, {\"type\": \"xy\"}]])\n",
    "\n",
    "fig.add_trace(pie_chart, row=1, col=1)\n",
    "fig.add_trace(bar_chart, row=1, col=2)\n",
    "\n",
    "fig.update_layout(title_text=\"Fraud Detection Analysis\",\n",
    "                  annotations=[\n",
    "                      dict(text='Pie Chart', x=0.18, y=1.1, font_size=20, showarrow=False),\n",
    "                      dict(text='Bar Chart', x=0.82, y=1.1, font_size=20, showarrow=False)\n",
    "                  ],\n",
    "                  showlegend=False)\n",
    "\n",
    "fig.show()\n"
   ]
  },
  {
   "cell_type": "markdown",
   "metadata": {},
   "source": [
    "- The data show that the class highly unbalanced with **No Fraud** class take as a majority\n",
    "- Data yang disajikan menampilkan kelas dengan **No Fraud** sebagai kelas mayoritas terbanyak\n",
    "\n",
    "- We need to balance the data to avoid the bias prediction\n",
    "- data perlu diseimbangkan untuk menghindari bias dalam prediksi\n"
   ]
  },
  {
   "cell_type": "markdown",
   "metadata": {},
   "source": [
    "# <center><div style=\"font-family: Trebuchet MS; background-color: #00000; color: #545955; padding: 12px; line-height: 1;\">Feature Selection</div></center>"
   ]
  },
  {
   "cell_type": "code",
   "execution_count": 12,
   "metadata": {},
   "outputs": [
    {
     "data": {
      "application/vnd.plotly.v1+json": {
       "config": {
        "plotlyServerURL": "https://plot.ly"
       },
       "data": [
        {
         "colorbar": {
          "title": {
           "text": "Correlation"
          }
         },
         "colorscale": [
          [
           0,
           "#440154"
          ],
          [
           0.1111111111111111,
           "#482878"
          ],
          [
           0.2222222222222222,
           "#3e4989"
          ],
          [
           0.3333333333333333,
           "#31688e"
          ],
          [
           0.4444444444444444,
           "#26828e"
          ],
          [
           0.5555555555555556,
           "#1f9e89"
          ],
          [
           0.6666666666666666,
           "#35b779"
          ],
          [
           0.7777777777777778,
           "#6ece58"
          ],
          [
           0.8888888888888888,
           "#b5de2b"
          ],
          [
           1,
           "#fde725"
          ]
         ],
         "type": "heatmap",
         "x": [
          "Time",
          "V1",
          "V2",
          "V3",
          "V4",
          "V5",
          "V6",
          "V7",
          "V8",
          "V9",
          "V10",
          "V11",
          "V12",
          "V13",
          "V14",
          "V15",
          "V16",
          "V17",
          "V18",
          "V19",
          "V20",
          "V21",
          "V22",
          "V23",
          "V24",
          "V25",
          "V26",
          "V27",
          "V28",
          "Amount",
          "Class"
         ],
         "y": [
          "Time",
          "V1",
          "V2",
          "V3",
          "V4",
          "V5",
          "V6",
          "V7",
          "V8",
          "V9",
          "V10",
          "V11",
          "V12",
          "V13",
          "V14",
          "V15",
          "V16",
          "V17",
          "V18",
          "V19",
          "V20",
          "V21",
          "V22",
          "V23",
          "V24",
          "V25",
          "V26",
          "V27",
          "V28",
          "Amount",
          "Class"
         ],
         "z": [
          [
           1,
           0.11739630597838789,
           -0.010593327121342788,
           -0.41961817221152137,
           -0.1052602054457292,
           0.1730721233103911,
           -0.06301647037315108,
           0.08471437480498875,
           -0.03694943469000893,
           -0.008660433697684605,
           0.030616628592319686,
           -0.24768943748667419,
           0.12434806837193216,
           -0.06590202369761909,
           -0.09875681920622491,
           -0.18345327348103557,
           0.011902867722434273,
           -0.07329721331779822,
           0.09043813254861119,
           0.028975302561134116,
           -0.05086601846835266,
           0.04473572628908045,
           0.14405905486145879,
           0.05114236494177282,
           -0.016181868459307136,
           -0.23308279059831072,
           -0.04140710060605856,
           -0.0051345911239974755,
           -0.009412688179052135,
           -0.010596373389030208,
           -0.012322570929245588
          ],
          [
           0.11739630597838789,
           1,
           4.1358354564892754e-16,
           -1.2278194121819788e-15,
           -9.215150243899318e-16,
           1.8126116695596912e-17,
           -6.506566620719457e-16,
           -1.005191388479541e-15,
           -2.433821872330018e-16,
           -1.5136779944803127e-16,
           7.388134717351061e-17,
           2.1254983311063253e-16,
           2.0534566920177348e-16,
           -2.4256031737394643e-17,
           -5.020280380415147e-16,
           3.5477819410318954e-16,
           7.212815001934148e-17,
           -3.87983961824813e-16,
           3.230205740239066e-17,
           1.5020239355025085e-16,
           4.654551139305108e-16,
           -2.4574089417386587e-16,
           -4.2909438718268266e-16,
           6.168652436530227e-16,
           -4.4251562937334496e-17,
           -9.605737402666084e-16,
           -1.5812895377398922e-17,
           1.1981236332134924e-16,
           2.0830815396728918e-15,
           -0.22770865292240447,
           -0.10134729859508294
          ],
          [
           -0.010593327121342788,
           4.1358354564892754e-16,
           1,
           3.2437637564730876e-16,
           -1.1210645517879283e-15,
           5.157519226850325e-16,
           2.787345616249733e-16,
           2.0559335979979422e-16,
           -5.377040798099404e-17,
           1.9784883982576268e-17,
           -3.9913938358309816e-16,
           1.9754261716388057e-16,
           -9.568709787237782e-17,
           6.295388359367237e-16,
           -1.7305655729049333e-16,
           -4.995813738381819e-17,
           1.1773156245287562e-17,
           -2.6852960349785897e-16,
           3.2846050560664826e-16,
           -7.118719066768033e-18,
           2.50667497634529e-16,
           -8.480446676665688e-17,
           1.5263331954819332e-16,
           1.6342312638331767e-16,
           1.2479254148791624e-17,
           -4.478845863905263e-16,
           2.0573095296611221e-16,
           -4.966952901962228e-16,
           -5.093835621862943e-16,
           -0.5314089393280346,
           0.0912886503446179
          ],
          [
           -0.41961817221152137,
           -1.2278194121819788e-15,
           3.2437637564730876e-16,
           1,
           4.711292683654366e-16,
           -6.539008510650542e-17,
           1.627626540252481e-15,
           4.895304621446415e-16,
           -1.268778573826182e-15,
           5.568366908598342e-16,
           1.1565865750566837e-15,
           1.5768296423313399e-15,
           6.310231445379778e-16,
           2.807651947490283e-16,
           4.739859022371114e-16,
           9.068793155133045e-16,
           8.299444784584843e-16,
           7.614711699539666e-16,
           1.5098965169385715e-16,
           3.463522445596662e-16,
           -9.316408952450645e-16,
           5.706192013553349e-17,
           -1.1339017399048806e-15,
           -4.983034749508378e-16,
           2.686833641516197e-19,
           -1.1047337449307866e-15,
           -1.2380624286864503e-16,
           1.0457467776682414e-15,
           9.775546470754552e-16,
           -0.2108804752899098,
           -0.19296082706741602
          ],
          [
           -0.1052602054457292,
           -9.215150243899318e-16,
           -1.1210645517879283e-15,
           4.711292683654366e-16,
           1,
           -1.7199442557407963e-15,
           -7.491958618234819e-16,
           -4.104502892359598e-16,
           5.697192192200434e-16,
           6.92324681822723e-16,
           2.232684984042872e-16,
           3.459380257636673e-16,
           -5.625517514717779e-16,
           1.3033060401606038e-16,
           2.282279888410829e-16,
           1.3776486407170148e-16,
           -9.614528436638084e-16,
           -2.699612312806123e-16,
           -5.103644326568441e-16,
           -3.9805573017882795e-16,
           -1.8572469274698646e-16,
           -1.9495531570649426e-16,
           -6.276051371170312e-17,
           9.164206002886586e-17,
           1.5846375199907873e-16,
           6.0707156393623205e-16,
           -4.247267766169872e-16,
           3.977060870415758e-17,
           -2.7614028067346953e-18,
           0.09873166631356645,
           0.13344748623900718
          ],
          [
           0.1730721233103911,
           1.8126116695596912e-17,
           5.157519226850325e-16,
           -6.539008510650542e-17,
           -1.7199442557407963e-15,
           1,
           2.408382066295025e-16,
           2.7155407001970747e-16,
           7.437229396632891e-16,
           7.391701641490924e-16,
           -5.202305881659873e-16,
           7.203963319401883e-16,
           7.412552025077167e-16,
           5.88699112533171e-16,
           6.56514268095602e-16,
           -8.720275105769596e-16,
           2.246261396202371e-15,
           1.2819137171547366e-16,
           5.308589701106476e-16,
           -1.4504208046983195e-16,
           -3.5540572101531124e-16,
           -3.9209757534272204e-16,
           1.2537514849245887e-16,
           -8.428682666724684e-18,
           -1.1492545365112402e-15,
           4.808531869137339e-16,
           4.3195414687166863e-16,
           6.590482071768851e-16,
           -5.6139507078607e-18,
           -0.38635625616306496,
           -0.09497429899144802
          ],
          [
           -0.06301647037315108,
           -6.506566620719457e-16,
           2.787345616249733e-16,
           1.627626540252481e-15,
           -7.491958618234819e-16,
           2.408382066295025e-16,
           1,
           1.191667589072508e-16,
           -1.1042189042385735e-16,
           4.1312074945098704e-16,
           5.932243209613179e-17,
           1.9805032684309883e-15,
           2.3754678641019686e-16,
           -1.2111822796008627e-16,
           2.6213119453640026e-16,
           -1.531187930589043e-15,
           2.62367236701838e-18,
           2.0156175061319107e-16,
           1.2238142286241463e-16,
           -1.865597144392931e-16,
           -1.8587549872133942e-16,
           5.83331648964142e-17,
           -4.705234695674811e-19,
           1.0467124490962339e-16,
           -1.0715891491067084e-15,
           4.562860891491776e-16,
           -1.3570673248129112e-16,
           -4.452461023430561e-16,
           2.5947542005622326e-16,
           0.2159811802252743,
           -0.04364316069996494
          ],
          [
           0.08471437480498875,
           -1.005191388479541e-15,
           2.0559335979979422e-16,
           4.895304621446415e-16,
           -4.104502892359598e-16,
           2.7155407001970747e-16,
           1.191667589072508e-16,
           1,
           3.344411790071421e-16,
           1.1225014439079958e-15,
           -7.492833952152939e-17,
           1.425247524346415e-16,
           -3.536654890142397e-18,
           1.2664616801613498e-17,
           2.6077718132499896e-16,
           -1.6905404766329277e-16,
           5.869302352475609e-17,
           2.1771917897320863e-16,
           7.604126146267294e-17,
           -1.8810082655751772e-16,
           9.379683965116646e-16,
           -2.027779286852274e-16,
           -8.898921641367619e-16,
           -4.3874007839257624e-16,
           7.434913059745356e-18,
           -3.094081780632013e-16,
           -9.6576365370981e-16,
           -1.782105558577791e-15,
           -2.7765300125288505e-16,
           0.39731127818168616,
           -0.18725659151430013
          ],
          [
           -0.03694943469000893,
           -2.433821872330018e-16,
           -5.377040798099404e-17,
           -1.268778573826182e-15,
           5.697192192200434e-16,
           7.437229396632891e-16,
           -1.1042189042385735e-16,
           3.344411790071421e-16,
           1,
           4.3560780107095135e-16,
           -2.8013697927814445e-16,
           2.4870425457504684e-16,
           1.8398909286248454e-16,
           -2.9218563607763307e-16,
           -8.599156012879489e-16,
           4.127776868168695e-16,
           -5.254741203520614e-16,
           -2.2695491182086025e-16,
           -3.6679744894621306e-16,
           -3.8751862861351176e-16,
           2.0337373844141382e-16,
           3.892797882576912e-16,
           2.026927304278977e-16,
           6.377260397492483e-17,
           -1.0470966864794954e-16,
           -4.653279299017573e-16,
           -1.7272763062777551e-16,
           1.2999428307434422e-16,
           -6.200929902923697e-16,
           -0.10307909564498216,
           0.019875123914794384
          ],
          [
           -0.008660433697684605,
           -1.5136779944803127e-16,
           1.9784883982576268e-17,
           5.568366908598342e-16,
           6.92324681822723e-16,
           7.391701641490924e-16,
           4.1312074945098704e-16,
           1.1225014439079958e-15,
           4.3560780107095135e-16,
           1,
           -4.642273732835462e-16,
           1.354679871690734e-16,
           -1.0793141135786758e-15,
           2.25107172875499e-15,
           3.784757449242497e-15,
           -1.0511668941135748e-15,
           -1.2140863766816202e-15,
           1.1136947155757017e-15,
           4.993240413816944e-16,
           -1.3761346879436734e-16,
           -2.3437201255055754e-16,
           1.9369527624153884e-16,
           -7.071869168133064e-16,
           -5.214137433230766e-16,
           -1.4303433360827164e-16,
           6.757763488818423e-16,
           -7.888852631707746e-16,
           -6.709655453239168e-17,
           1.1105414147536788e-15,
           -0.044245601964446046,
           -0.0977326860740807
          ],
          [
           0.030616628592319686,
           7.388134717351061e-17,
           -3.9913938358309816e-16,
           1.1565865750566837e-15,
           2.232684984042872e-16,
           -5.202305881659873e-16,
           5.932243209613179e-17,
           -7.492833952152939e-17,
           -2.8013697927814445e-16,
           -4.642273732835462e-16,
           1,
           -4.622103201113089e-16,
           1.7718690256134556e-15,
           -5.41846042363259e-16,
           2.635935707413199e-16,
           5.786331888867675e-16,
           3.5454495198324955e-16,
           1.5429548968530055e-15,
           3.9024229309672283e-16,
           3.437632550965993e-17,
           -1.3315562020888575e-15,
           1.177546680203721e-15,
           -6.418201898812593e-16,
           3.2144914548249394e-16,
           -1.3558851667401352e-16,
           -2.8460524613966964e-16,
           -3.028119044190825e-16,
           -2.1979766088647894e-16,
           4.864782115587085e-17,
           -0.10150214079143287,
           -0.21688294364103206
          ],
          [
           -0.24768943748667419,
           2.1254983311063253e-16,
           1.9754261716388057e-16,
           1.5768296423313399e-15,
           3.459380257636673e-16,
           7.203963319401883e-16,
           1.9805032684309883e-15,
           1.425247524346415e-16,
           2.4870425457504684e-16,
           1.354679871690734e-16,
           -4.622103201113089e-16,
           1,
           6.370788814620535e-16,
           1.9583765492499135e-16,
           2.700918120522286e-16,
           1.33232289054777e-15,
           5.840590486423018e-16,
           7.151184677340279e-16,
           1.4409133966272747e-16,
           -7.389747856226886e-16,
           -1.4812986481925614e-16,
           -5.658364095024855e-16,
           7.772895273742887e-16,
           -4.50533169539145e-16,
           1.9332673743056163e-15,
           -5.600474870340768e-16,
           -1.0032214647448814e-16,
           -2.6402807036751134e-16,
           -3.7923136685329124e-16,
           0.00010397702176455398,
           0.15487564474394433
          ],
          [
           0.12434806837193216,
           2.0534566920177348e-16,
           -9.568709787237782e-17,
           6.310231445379778e-16,
           -5.625517514717779e-16,
           7.412552025077167e-16,
           2.3754678641019686e-16,
           -3.536654890142397e-18,
           1.8398909286248454e-16,
           -1.0793141135786758e-15,
           1.7718690256134556e-15,
           6.370788814620535e-16,
           1,
           -2.321486470875369e-14,
           2.770713709609466e-17,
           -1.3604164848978839e-15,
           5.335133837880831e-16,
           5.648453498612154e-16,
           3.0362933537772255e-17,
           1.4695566932489226e-16,
           3.4302823082768627e-16,
           7.300526505643876e-16,
           1.6446989102745604e-16,
           1.8008849567119045e-16,
           4.436512313010862e-16,
           -5.712973328249079e-16,
           -2.3599688285863116e-16,
           -4.672390666543685e-16,
           6.415167377154613e-16,
           -0.009541802153205721,
           -0.26059292487722485
          ],
          [
           -0.06590202369761909,
           -2.4256031737394643e-17,
           6.295388359367237e-16,
           2.807651947490283e-16,
           1.3033060401606038e-16,
           5.88699112533171e-16,
           -1.2111822796008627e-16,
           1.2664616801613498e-17,
           -2.9218563607763307e-16,
           2.25107172875499e-15,
           -5.41846042363259e-16,
           1.9583765492499135e-16,
           -2.321486470875369e-14,
           1,
           2.1619667447619242e-15,
           1.3881430727848171e-16,
           6.044196816561422e-16,
           7.58443618897532e-17,
           4.157329569868424e-16,
           -1.861400225975483e-16,
           5.623856068616621e-18,
           1.0084610412063391e-16,
           6.747721388834886e-17,
           -7.132063821134473e-16,
           -1.3974698480577809e-16,
           -5.4976118194831325e-16,
           -1.7692551719944352e-16,
           -4.720898350671909e-16,
           1.1443723212653693e-15,
           0.005293409030421471,
           -0.004569778799461309
          ],
          [
           -0.09875681920622491,
           -5.020280380415147e-16,
           -1.7305655729049333e-16,
           4.739859022371114e-16,
           2.282279888410829e-16,
           6.56514268095602e-16,
           2.6213119453640026e-16,
           2.6077718132499896e-16,
           -8.599156012879489e-16,
           3.784757449242497e-15,
           2.635935707413199e-16,
           2.700918120522286e-16,
           2.770713709609466e-17,
           2.1619667447619242e-15,
           1,
           -3.808117677028143e-17,
           -1.4398579669506511e-15,
           1.1625292244039494e-15,
           1.6423778676319633e-15,
           1.9770204722750855e-16,
           -1.1813415810258678e-17,
           -3.356561456685497e-16,
           3.7403829306912934e-16,
           3.8832038551662737e-16,
           2.0034820594137143e-16,
           -8.547932209845472e-16,
           -1.6603270649022016e-16,
           1.0442741526232177e-16,
           2.289426763919487e-15,
           0.03375117176310099,
           -0.3025436958044028
          ],
          [
           -0.18345327348103557,
           3.5477819410318954e-16,
           -4.995813738381819e-17,
           9.068793155133045e-16,
           1.3776486407170148e-16,
           -8.720275105769596e-16,
           -1.531187930589043e-15,
           -1.6905404766329277e-16,
           4.127776868168695e-16,
           -1.0511668941135748e-15,
           5.786331888867675e-16,
           1.33232289054777e-15,
           -1.3604164848978839e-15,
           1.3881430727848171e-16,
           -3.808117677028143e-17,
           1,
           1.3323897310013163e-15,
           6.647712204946155e-16,
           3.475831683906772e-16,
           -1.483184738613011e-15,
           4.3000855225009244e-16,
           6.605262611180825e-17,
           -4.208920909942288e-16,
           -3.912242622329936e-16,
           -4.478262594798636e-16,
           3.206422537749195e-16,
           2.8177912755469397e-16,
           -1.143519016628987e-15,
           -1.1941296558075896e-15,
           -0.002985848124560203,
           -0.004223402267856675
          ],
          [
           0.011902867722434273,
           7.212815001934148e-17,
           1.1773156245287562e-17,
           8.299444784584843e-16,
           -9.614528436638084e-16,
           2.246261396202371e-15,
           2.62367236701838e-18,
           5.869302352475609e-17,
           -5.254741203520614e-16,
           -1.2140863766816202e-15,
           3.5454495198324955e-16,
           5.840590486423018e-16,
           5.335133837880831e-16,
           6.044196816561422e-16,
           -1.4398579669506511e-15,
           1.3323897310013163e-15,
           1,
           2.4824133407817586e-15,
           -2.4209151101527034e-15,
           1.3072408226766222e-15,
           5.176563991109766e-16,
           -4.715089809650195e-16,
           -7.923386632671353e-17,
           5.020770392579101e-16,
           -3.005984585691083e-16,
           -1.3454182802830804e-15,
           -7.290009860413427e-16,
           6.789513022251935e-16,
           7.588849292409198e-16,
           -0.00390952671356023,
           -0.19653894030401736
          ],
          [
           -0.07329721331779822,
           -3.87983961824813e-16,
           -2.6852960349785897e-16,
           7.614711699539666e-16,
           -2.699612312806123e-16,
           1.2819137171547366e-16,
           2.0156175061319107e-16,
           2.1771917897320863e-16,
           -2.2695491182086025e-16,
           1.1136947155757017e-15,
           1.5429548968530055e-15,
           7.151184677340279e-16,
           5.648453498612154e-16,
           7.58443618897532e-17,
           1.1625292244039494e-15,
           6.647712204946155e-16,
           2.4824133407817586e-15,
           1,
           -4.894900789370085e-15,
           -3.883099234888021e-16,
           -1.3903082185168376e-15,
           -8.230527090790586e-16,
           -8.743398013835714e-16,
           3.706214006042251e-16,
           -2.4038276613810414e-16,
           2.666806350880763e-16,
           6.932833169370984e-16,
           6.148525149662035e-16,
           -5.5345396559478415e-17,
           0.007309042077000943,
           -0.32648106724371595
          ],
          [
           0.09043813254861119,
           3.230205740239066e-17,
           3.2846050560664826e-16,
           1.5098965169385715e-16,
           -5.103644326568441e-16,
           5.308589701106476e-16,
           1.2238142286241463e-16,
           7.604126146267294e-17,
           -3.6679744894621306e-16,
           4.993240413816944e-16,
           3.9024229309672283e-16,
           1.4409133966272747e-16,
           3.0362933537772255e-17,
           4.157329569868424e-16,
           1.6423778676319633e-15,
           3.475831683906772e-16,
           -2.4209151101527034e-15,
           -4.894900789370085e-15,
           1,
           -2.499137803305714e-15,
           -3.7113023021587404e-16,
           -9.408679913179306e-16,
           -4.819364879908379e-16,
           -1.9120062578048154e-16,
           -8.986915787227416e-17,
           -6.629212319357846e-17,
           2.990167114552731e-16,
           2.242790892503769e-16,
           7.976796011923423e-16,
           0.03565034071999803,
           -0.11148525388904133
          ],
          [
           0.028975302561134116,
           1.5020239355025085e-16,
           -7.118719066768033e-18,
           3.463522445596662e-16,
           -3.9805573017882795e-16,
           -1.4504208046983195e-16,
           -1.865597144392931e-16,
           -1.8810082655751772e-16,
           -3.8751862861351176e-16,
           -1.3761346879436734e-16,
           3.437632550965993e-17,
           -7.389747856226886e-16,
           1.4695566932489226e-16,
           -1.861400225975483e-16,
           1.9770204722750855e-16,
           -1.483184738613011e-15,
           1.3072408226766222e-15,
           -3.883099234888021e-16,
           -2.499137803305714e-15,
           1,
           2.614882341538791e-16,
           5.115884856313123e-16,
           -1.1637680017755397e-15,
           7.032034760831833e-16,
           2.5877075288493672e-17,
           9.577163384465414e-16,
           5.898033286517297e-16,
           -2.959370459016359e-16,
           -1.4053791305781839e-15,
           -0.056150787231159356,
           0.034783013036515056
          ],
          [
           -0.05086601846835266,
           4.654551139305108e-16,
           2.50667497634529e-16,
           -9.316408952450645e-16,
           -1.8572469274698646e-16,
           -3.5540572101531124e-16,
           -1.8587549872133942e-16,
           9.379683965116646e-16,
           2.0337373844141382e-16,
           -2.3437201255055754e-16,
           -1.3315562020888575e-15,
           -1.4812986481925614e-16,
           3.4302823082768627e-16,
           5.623856068616621e-18,
           -1.1813415810258678e-17,
           4.3000855225009244e-16,
           5.176563991109766e-16,
           -1.3903082185168376e-15,
           -3.7113023021587404e-16,
           2.614882341538791e-16,
           1,
           -7.614596864048146e-16,
           1.0092853441649329e-15,
           2.7128849971219144e-16,
           1.2772145475794786e-16,
           1.410053578162753e-16,
           -2.8035038658351056e-16,
           -1.1388292622518563e-15,
           -2.436795485900816e-16,
           0.3394034045461662,
           0.020090324196974638
          ],
          [
           0.04473572628908045,
           -2.4574089417386587e-16,
           -8.480446676665688e-17,
           5.706192013553349e-17,
           -1.9495531570649426e-16,
           -3.9209757534272204e-16,
           5.83331648964142e-17,
           -2.027779286852274e-16,
           3.892797882576912e-16,
           1.9369527624153884e-16,
           1.177546680203721e-15,
           -5.658364095024855e-16,
           7.300526505643876e-16,
           1.0084610412063391e-16,
           -3.356561456685497e-16,
           6.605262611180825e-17,
           -4.715089809650195e-16,
           -8.230527090790586e-16,
           -9.408679913179306e-16,
           5.115884856313123e-16,
           -7.614596864048146e-16,
           1,
           3.649907950603145e-15,
           8.119580111568814e-16,
           1.7610536429210076e-16,
           -1.686082241916443e-16,
           -5.557329265483427e-16,
           -1.2112813171061738e-15,
           5.278775256171777e-16,
           0.10599892763771585,
           0.04041338061057565
          ],
          [
           0.14405905486145879,
           -4.2909438718268266e-16,
           1.5263331954819332e-16,
           -1.1339017399048806e-15,
           -6.276051371170312e-17,
           1.2537514849245887e-16,
           -4.705234695674811e-19,
           -8.898921641367619e-16,
           2.026927304278977e-16,
           -7.071869168133064e-16,
           -6.418201898812593e-16,
           7.772895273742887e-16,
           1.6446989102745604e-16,
           6.747721388834886e-17,
           3.7403829306912934e-16,
           -4.208920909942288e-16,
           -7.923386632671353e-17,
           -8.743398013835714e-16,
           -4.819364879908379e-16,
           -1.1637680017755397e-15,
           1.0092853441649329e-15,
           3.649907950603145e-15,
           1,
           -7.303916009614304e-17,
           9.970809319742974e-17,
           -5.018574548524348e-16,
           -2.5031866261963618e-17,
           8.461336896977236e-17,
           -6.627203072789682e-16,
           -0.06480064637320102,
           0.0008053175052983079
          ],
          [
           0.05114236494177282,
           6.168652436530227e-16,
           1.6342312638331767e-16,
           -4.983034749508378e-16,
           9.164206002886586e-17,
           -8.428682666724684e-18,
           1.0467124490962339e-16,
           -4.3874007839257624e-16,
           6.377260397492483e-17,
           -5.214137433230766e-16,
           3.2144914548249394e-16,
           -4.50533169539145e-16,
           1.8008849567119045e-16,
           -7.132063821134473e-16,
           3.8832038551662737e-16,
           -3.912242622329936e-16,
           5.020770392579101e-16,
           3.706214006042251e-16,
           -1.9120062578048154e-16,
           7.032034760831833e-16,
           2.7128849971219144e-16,
           8.119580111568814e-16,
           -7.303916009614304e-17,
           1,
           2.1305190029328768e-17,
           -8.232727103076186e-17,
           1.1145241168236824e-15,
           2.839721244163519e-16,
           1.4819033445012514e-15,
           -0.11263255363253537,
           -0.0026851557402507824
          ],
          [
           -0.016181868459307136,
           -4.4251562937334496e-17,
           1.2479254148791624e-17,
           2.686833641516197e-19,
           1.5846375199907873e-16,
           -1.1492545365112402e-15,
           -1.0715891491067084e-15,
           7.434913059745356e-18,
           -1.0470966864794954e-16,
           -1.4303433360827164e-16,
           -1.3558851667401352e-16,
           1.9332673743056163e-15,
           4.436512313010862e-16,
           -1.3974698480577809e-16,
           2.0034820594137143e-16,
           -4.478262594798636e-16,
           -3.005984585691083e-16,
           -2.4038276613810414e-16,
           -8.986915787227416e-17,
           2.5877075288493672e-17,
           1.2772145475794786e-16,
           1.7610536429210076e-16,
           9.970809319742974e-17,
           2.1305190029328768e-17,
           1,
           1.0153909433800983e-15,
           1.3437216725460246e-16,
           -2.2741417470201383e-16,
           -2.819804827567825e-16,
           0.005146217430766927,
           -0.007220906715952582
          ],
          [
           -0.23308279059831072,
           -9.605737402666084e-16,
           -4.478845863905263e-16,
           -1.1047337449307866e-15,
           6.0707156393623205e-16,
           4.808531869137339e-16,
           4.562860891491776e-16,
           -3.094081780632013e-16,
           -4.653279299017573e-16,
           6.757763488818423e-16,
           -2.8460524613966964e-16,
           -5.600474870340768e-16,
           -5.712973328249079e-16,
           -5.4976118194831325e-16,
           -8.547932209845472e-16,
           3.206422537749195e-16,
           -1.3454182802830804e-15,
           2.666806350880763e-16,
           -6.629212319357846e-17,
           9.577163384465414e-16,
           1.410053578162753e-16,
           -1.686082241916443e-16,
           -5.018574548524348e-16,
           -8.232727103076186e-17,
           1.0153909433800983e-15,
           1,
           2.646516743753724e-15,
           -6.406679398801401e-16,
           -7.008939470404916e-16,
           -0.047836863176140484,
           0.0033077055972996613
          ],
          [
           -0.04140710060605856,
           -1.5812895377398922e-17,
           2.0573095296611221e-16,
           -1.2380624286864503e-16,
           -4.247267766169872e-16,
           4.3195414687166863e-16,
           -1.3570673248129112e-16,
           -9.6576365370981e-16,
           -1.7272763062777551e-16,
           -7.888852631707746e-16,
           -3.028119044190825e-16,
           -1.0032214647448814e-16,
           -2.3599688285863116e-16,
           -1.7692551719944352e-16,
           -1.6603270649022016e-16,
           2.8177912755469397e-16,
           -7.290009860413427e-16,
           6.932833169370984e-16,
           2.990167114552731e-16,
           5.898033286517297e-16,
           -2.8035038658351056e-16,
           -5.557329265483427e-16,
           -2.5031866261963618e-17,
           1.1145241168236824e-15,
           1.3437216725460246e-16,
           2.646516743753724e-15,
           1,
           -3.667714660858756e-16,
           -2.782203783187239e-16,
           -0.003208037150978886,
           0.0044553975012833254
          ],
          [
           -0.0051345911239974755,
           1.1981236332134924e-16,
           -4.966952901962228e-16,
           1.0457467776682414e-15,
           3.977060870415758e-17,
           6.590482071768851e-16,
           -4.452461023430561e-16,
           -1.782105558577791e-15,
           1.2999428307434422e-16,
           -6.709655453239168e-17,
           -2.1979766088647894e-16,
           -2.6402807036751134e-16,
           -4.672390666543685e-16,
           -4.720898350671909e-16,
           1.0442741526232177e-16,
           -1.143519016628987e-15,
           6.789513022251935e-16,
           6.148525149662035e-16,
           2.242790892503769e-16,
           -2.959370459016359e-16,
           -1.1388292622518563e-15,
           -1.2112813171061738e-15,
           8.461336896977236e-17,
           2.839721244163519e-16,
           -2.2741417470201383e-16,
           -6.406679398801401e-16,
           -3.667714660858756e-16,
           1,
           -3.0612868120245353e-16,
           0.028825463424359793,
           0.01757972818951348
          ],
          [
           -0.009412688179052135,
           2.0830815396728918e-15,
           -5.093835621862943e-16,
           9.775546470754552e-16,
           -2.7614028067346953e-18,
           -5.6139507078607e-18,
           2.5947542005622326e-16,
           -2.7765300125288505e-16,
           -6.200929902923697e-16,
           1.1105414147536788e-15,
           4.864782115587085e-17,
           -3.7923136685329124e-16,
           6.415167377154613e-16,
           1.1443723212653693e-15,
           2.289426763919487e-15,
           -1.1941296558075896e-15,
           7.588849292409198e-16,
           -5.5345396559478415e-17,
           7.976796011923423e-16,
           -1.4053791305781839e-15,
           -2.436795485900816e-16,
           5.278775256171777e-16,
           -6.627203072789682e-16,
           1.4819033445012514e-15,
           -2.819804827567825e-16,
           -7.008939470404916e-16,
           -2.782203783187239e-16,
           -3.0612868120245353e-16,
           1,
           0.010258215893044719,
           0.00953604091623609
          ],
          [
           -0.010596373389030208,
           -0.22770865292240447,
           -0.5314089393280346,
           -0.2108804752899098,
           0.09873166631356645,
           -0.38635625616306496,
           0.2159811802252743,
           0.39731127818168616,
           -0.10307909564498216,
           -0.044245601964446046,
           -0.10150214079143287,
           0.00010397702176455398,
           -0.009541802153205721,
           0.005293409030421471,
           0.03375117176310099,
           -0.002985848124560203,
           -0.00390952671356023,
           0.007309042077000943,
           0.03565034071999803,
           -0.056150787231159356,
           0.3394034045461662,
           0.10599892763771585,
           -0.06480064637320102,
           -0.11263255363253537,
           0.005146217430766927,
           -0.047836863176140484,
           -0.003208037150978886,
           0.028825463424359793,
           0.010258215893044719,
           1,
           0.005631753006768552
          ],
          [
           -0.012322570929245588,
           -0.10134729859508294,
           0.0912886503446179,
           -0.19296082706741602,
           0.13344748623900718,
           -0.09497429899144802,
           -0.04364316069996494,
           -0.18725659151430013,
           0.019875123914794384,
           -0.0977326860740807,
           -0.21688294364103206,
           0.15487564474394433,
           -0.26059292487722485,
           -0.004569778799461309,
           -0.3025436958044028,
           -0.004223402267856675,
           -0.19653894030401736,
           -0.32648106724371595,
           -0.11148525388904133,
           0.034783013036515056,
           0.020090324196974638,
           0.04041338061057565,
           0.0008053175052983079,
           -0.0026851557402507824,
           -0.007220906715952582,
           0.0033077055972996613,
           0.0044553975012833254,
           0.01757972818951348,
           0.00953604091623609,
           0.005631753006768552,
           1
          ]
         ],
         "zmax": 1,
         "zmin": -1
        }
       ],
       "layout": {
        "template": {
         "data": {
          "bar": [
           {
            "error_x": {
             "color": "#2a3f5f"
            },
            "error_y": {
             "color": "#2a3f5f"
            },
            "marker": {
             "line": {
              "color": "#E5ECF6",
              "width": 0.5
             },
             "pattern": {
              "fillmode": "overlay",
              "size": 10,
              "solidity": 0.2
             }
            },
            "type": "bar"
           }
          ],
          "barpolar": [
           {
            "marker": {
             "line": {
              "color": "#E5ECF6",
              "width": 0.5
             },
             "pattern": {
              "fillmode": "overlay",
              "size": 10,
              "solidity": 0.2
             }
            },
            "type": "barpolar"
           }
          ],
          "carpet": [
           {
            "aaxis": {
             "endlinecolor": "#2a3f5f",
             "gridcolor": "white",
             "linecolor": "white",
             "minorgridcolor": "white",
             "startlinecolor": "#2a3f5f"
            },
            "baxis": {
             "endlinecolor": "#2a3f5f",
             "gridcolor": "white",
             "linecolor": "white",
             "minorgridcolor": "white",
             "startlinecolor": "#2a3f5f"
            },
            "type": "carpet"
           }
          ],
          "choropleth": [
           {
            "colorbar": {
             "outlinewidth": 0,
             "ticks": ""
            },
            "type": "choropleth"
           }
          ],
          "contour": [
           {
            "colorbar": {
             "outlinewidth": 0,
             "ticks": ""
            },
            "colorscale": [
             [
              0,
              "#0d0887"
             ],
             [
              0.1111111111111111,
              "#46039f"
             ],
             [
              0.2222222222222222,
              "#7201a8"
             ],
             [
              0.3333333333333333,
              "#9c179e"
             ],
             [
              0.4444444444444444,
              "#bd3786"
             ],
             [
              0.5555555555555556,
              "#d8576b"
             ],
             [
              0.6666666666666666,
              "#ed7953"
             ],
             [
              0.7777777777777778,
              "#fb9f3a"
             ],
             [
              0.8888888888888888,
              "#fdca26"
             ],
             [
              1,
              "#f0f921"
             ]
            ],
            "type": "contour"
           }
          ],
          "contourcarpet": [
           {
            "colorbar": {
             "outlinewidth": 0,
             "ticks": ""
            },
            "type": "contourcarpet"
           }
          ],
          "heatmap": [
           {
            "colorbar": {
             "outlinewidth": 0,
             "ticks": ""
            },
            "colorscale": [
             [
              0,
              "#0d0887"
             ],
             [
              0.1111111111111111,
              "#46039f"
             ],
             [
              0.2222222222222222,
              "#7201a8"
             ],
             [
              0.3333333333333333,
              "#9c179e"
             ],
             [
              0.4444444444444444,
              "#bd3786"
             ],
             [
              0.5555555555555556,
              "#d8576b"
             ],
             [
              0.6666666666666666,
              "#ed7953"
             ],
             [
              0.7777777777777778,
              "#fb9f3a"
             ],
             [
              0.8888888888888888,
              "#fdca26"
             ],
             [
              1,
              "#f0f921"
             ]
            ],
            "type": "heatmap"
           }
          ],
          "heatmapgl": [
           {
            "colorbar": {
             "outlinewidth": 0,
             "ticks": ""
            },
            "colorscale": [
             [
              0,
              "#0d0887"
             ],
             [
              0.1111111111111111,
              "#46039f"
             ],
             [
              0.2222222222222222,
              "#7201a8"
             ],
             [
              0.3333333333333333,
              "#9c179e"
             ],
             [
              0.4444444444444444,
              "#bd3786"
             ],
             [
              0.5555555555555556,
              "#d8576b"
             ],
             [
              0.6666666666666666,
              "#ed7953"
             ],
             [
              0.7777777777777778,
              "#fb9f3a"
             ],
             [
              0.8888888888888888,
              "#fdca26"
             ],
             [
              1,
              "#f0f921"
             ]
            ],
            "type": "heatmapgl"
           }
          ],
          "histogram": [
           {
            "marker": {
             "pattern": {
              "fillmode": "overlay",
              "size": 10,
              "solidity": 0.2
             }
            },
            "type": "histogram"
           }
          ],
          "histogram2d": [
           {
            "colorbar": {
             "outlinewidth": 0,
             "ticks": ""
            },
            "colorscale": [
             [
              0,
              "#0d0887"
             ],
             [
              0.1111111111111111,
              "#46039f"
             ],
             [
              0.2222222222222222,
              "#7201a8"
             ],
             [
              0.3333333333333333,
              "#9c179e"
             ],
             [
              0.4444444444444444,
              "#bd3786"
             ],
             [
              0.5555555555555556,
              "#d8576b"
             ],
             [
              0.6666666666666666,
              "#ed7953"
             ],
             [
              0.7777777777777778,
              "#fb9f3a"
             ],
             [
              0.8888888888888888,
              "#fdca26"
             ],
             [
              1,
              "#f0f921"
             ]
            ],
            "type": "histogram2d"
           }
          ],
          "histogram2dcontour": [
           {
            "colorbar": {
             "outlinewidth": 0,
             "ticks": ""
            },
            "colorscale": [
             [
              0,
              "#0d0887"
             ],
             [
              0.1111111111111111,
              "#46039f"
             ],
             [
              0.2222222222222222,
              "#7201a8"
             ],
             [
              0.3333333333333333,
              "#9c179e"
             ],
             [
              0.4444444444444444,
              "#bd3786"
             ],
             [
              0.5555555555555556,
              "#d8576b"
             ],
             [
              0.6666666666666666,
              "#ed7953"
             ],
             [
              0.7777777777777778,
              "#fb9f3a"
             ],
             [
              0.8888888888888888,
              "#fdca26"
             ],
             [
              1,
              "#f0f921"
             ]
            ],
            "type": "histogram2dcontour"
           }
          ],
          "mesh3d": [
           {
            "colorbar": {
             "outlinewidth": 0,
             "ticks": ""
            },
            "type": "mesh3d"
           }
          ],
          "parcoords": [
           {
            "line": {
             "colorbar": {
              "outlinewidth": 0,
              "ticks": ""
             }
            },
            "type": "parcoords"
           }
          ],
          "pie": [
           {
            "automargin": true,
            "type": "pie"
           }
          ],
          "scatter": [
           {
            "fillpattern": {
             "fillmode": "overlay",
             "size": 10,
             "solidity": 0.2
            },
            "type": "scatter"
           }
          ],
          "scatter3d": [
           {
            "line": {
             "colorbar": {
              "outlinewidth": 0,
              "ticks": ""
             }
            },
            "marker": {
             "colorbar": {
              "outlinewidth": 0,
              "ticks": ""
             }
            },
            "type": "scatter3d"
           }
          ],
          "scattercarpet": [
           {
            "marker": {
             "colorbar": {
              "outlinewidth": 0,
              "ticks": ""
             }
            },
            "type": "scattercarpet"
           }
          ],
          "scattergeo": [
           {
            "marker": {
             "colorbar": {
              "outlinewidth": 0,
              "ticks": ""
             }
            },
            "type": "scattergeo"
           }
          ],
          "scattergl": [
           {
            "marker": {
             "colorbar": {
              "outlinewidth": 0,
              "ticks": ""
             }
            },
            "type": "scattergl"
           }
          ],
          "scattermapbox": [
           {
            "marker": {
             "colorbar": {
              "outlinewidth": 0,
              "ticks": ""
             }
            },
            "type": "scattermapbox"
           }
          ],
          "scatterpolar": [
           {
            "marker": {
             "colorbar": {
              "outlinewidth": 0,
              "ticks": ""
             }
            },
            "type": "scatterpolar"
           }
          ],
          "scatterpolargl": [
           {
            "marker": {
             "colorbar": {
              "outlinewidth": 0,
              "ticks": ""
             }
            },
            "type": "scatterpolargl"
           }
          ],
          "scatterternary": [
           {
            "marker": {
             "colorbar": {
              "outlinewidth": 0,
              "ticks": ""
             }
            },
            "type": "scatterternary"
           }
          ],
          "surface": [
           {
            "colorbar": {
             "outlinewidth": 0,
             "ticks": ""
            },
            "colorscale": [
             [
              0,
              "#0d0887"
             ],
             [
              0.1111111111111111,
              "#46039f"
             ],
             [
              0.2222222222222222,
              "#7201a8"
             ],
             [
              0.3333333333333333,
              "#9c179e"
             ],
             [
              0.4444444444444444,
              "#bd3786"
             ],
             [
              0.5555555555555556,
              "#d8576b"
             ],
             [
              0.6666666666666666,
              "#ed7953"
             ],
             [
              0.7777777777777778,
              "#fb9f3a"
             ],
             [
              0.8888888888888888,
              "#fdca26"
             ],
             [
              1,
              "#f0f921"
             ]
            ],
            "type": "surface"
           }
          ],
          "table": [
           {
            "cells": {
             "fill": {
              "color": "#EBF0F8"
             },
             "line": {
              "color": "white"
             }
            },
            "header": {
             "fill": {
              "color": "#C8D4E3"
             },
             "line": {
              "color": "white"
             }
            },
            "type": "table"
           }
          ]
         },
         "layout": {
          "annotationdefaults": {
           "arrowcolor": "#2a3f5f",
           "arrowhead": 0,
           "arrowwidth": 1
          },
          "autotypenumbers": "strict",
          "coloraxis": {
           "colorbar": {
            "outlinewidth": 0,
            "ticks": ""
           }
          },
          "colorscale": {
           "diverging": [
            [
             0,
             "#8e0152"
            ],
            [
             0.1,
             "#c51b7d"
            ],
            [
             0.2,
             "#de77ae"
            ],
            [
             0.3,
             "#f1b6da"
            ],
            [
             0.4,
             "#fde0ef"
            ],
            [
             0.5,
             "#f7f7f7"
            ],
            [
             0.6,
             "#e6f5d0"
            ],
            [
             0.7,
             "#b8e186"
            ],
            [
             0.8,
             "#7fbc41"
            ],
            [
             0.9,
             "#4d9221"
            ],
            [
             1,
             "#276419"
            ]
           ],
           "sequential": [
            [
             0,
             "#0d0887"
            ],
            [
             0.1111111111111111,
             "#46039f"
            ],
            [
             0.2222222222222222,
             "#7201a8"
            ],
            [
             0.3333333333333333,
             "#9c179e"
            ],
            [
             0.4444444444444444,
             "#bd3786"
            ],
            [
             0.5555555555555556,
             "#d8576b"
            ],
            [
             0.6666666666666666,
             "#ed7953"
            ],
            [
             0.7777777777777778,
             "#fb9f3a"
            ],
            [
             0.8888888888888888,
             "#fdca26"
            ],
            [
             1,
             "#f0f921"
            ]
           ],
           "sequentialminus": [
            [
             0,
             "#0d0887"
            ],
            [
             0.1111111111111111,
             "#46039f"
            ],
            [
             0.2222222222222222,
             "#7201a8"
            ],
            [
             0.3333333333333333,
             "#9c179e"
            ],
            [
             0.4444444444444444,
             "#bd3786"
            ],
            [
             0.5555555555555556,
             "#d8576b"
            ],
            [
             0.6666666666666666,
             "#ed7953"
            ],
            [
             0.7777777777777778,
             "#fb9f3a"
            ],
            [
             0.8888888888888888,
             "#fdca26"
            ],
            [
             1,
             "#f0f921"
            ]
           ]
          },
          "colorway": [
           "#636efa",
           "#EF553B",
           "#00cc96",
           "#ab63fa",
           "#FFA15A",
           "#19d3f3",
           "#FF6692",
           "#B6E880",
           "#FF97FF",
           "#FECB52"
          ],
          "font": {
           "color": "#2a3f5f"
          },
          "geo": {
           "bgcolor": "white",
           "lakecolor": "white",
           "landcolor": "#E5ECF6",
           "showlakes": true,
           "showland": true,
           "subunitcolor": "white"
          },
          "hoverlabel": {
           "align": "left"
          },
          "hovermode": "closest",
          "mapbox": {
           "style": "light"
          },
          "paper_bgcolor": "white",
          "plot_bgcolor": "#E5ECF6",
          "polar": {
           "angularaxis": {
            "gridcolor": "white",
            "linecolor": "white",
            "ticks": ""
           },
           "bgcolor": "#E5ECF6",
           "radialaxis": {
            "gridcolor": "white",
            "linecolor": "white",
            "ticks": ""
           }
          },
          "scene": {
           "xaxis": {
            "backgroundcolor": "#E5ECF6",
            "gridcolor": "white",
            "gridwidth": 2,
            "linecolor": "white",
            "showbackground": true,
            "ticks": "",
            "zerolinecolor": "white"
           },
           "yaxis": {
            "backgroundcolor": "#E5ECF6",
            "gridcolor": "white",
            "gridwidth": 2,
            "linecolor": "white",
            "showbackground": true,
            "ticks": "",
            "zerolinecolor": "white"
           },
           "zaxis": {
            "backgroundcolor": "#E5ECF6",
            "gridcolor": "white",
            "gridwidth": 2,
            "linecolor": "white",
            "showbackground": true,
            "ticks": "",
            "zerolinecolor": "white"
           }
          },
          "shapedefaults": {
           "line": {
            "color": "#2a3f5f"
           }
          },
          "ternary": {
           "aaxis": {
            "gridcolor": "white",
            "linecolor": "white",
            "ticks": ""
           },
           "baxis": {
            "gridcolor": "white",
            "linecolor": "white",
            "ticks": ""
           },
           "bgcolor": "#E5ECF6",
           "caxis": {
            "gridcolor": "white",
            "linecolor": "white",
            "ticks": ""
           }
          },
          "title": {
           "x": 0.05
          },
          "xaxis": {
           "automargin": true,
           "gridcolor": "white",
           "linecolor": "white",
           "ticks": "",
           "title": {
            "standoff": 15
           },
           "zerolinecolor": "white",
           "zerolinewidth": 2
          },
          "yaxis": {
           "automargin": true,
           "gridcolor": "white",
           "linecolor": "white",
           "ticks": "",
           "title": {
            "standoff": 15
           },
           "zerolinecolor": "white",
           "zerolinewidth": 2
          }
         }
        },
        "title": {
         "text": "Correlation Heatmap"
        },
        "xaxis": {
         "tickangle": -45,
         "title": {
          "text": "Features"
         }
        },
        "yaxis": {
         "title": {
          "text": "Features"
         }
        }
       }
      }
     },
     "metadata": {},
     "output_type": "display_data"
    }
   ],
   "source": [
    "import plotly.graph_objects as go\n",
    "\n",
    "corr_matrix = data.corr()\n",
    "\n",
    "heatmap = go.Heatmap(\n",
    "    z=corr_matrix.values,\n",
    "    x=corr_matrix.columns,\n",
    "    y=corr_matrix.columns,\n",
    "    colorscale='Viridis',\n",
    "    colorbar=dict(title='Correlation'),\n",
    "    zmin=-1,\n",
    "    zmax=1\n",
    ")\n",
    "\n",
    "fig = go.Figure(data=heatmap)\n",
    "\n",
    "fig.update_layout(\n",
    "    title='Correlation Heatmap',\n",
    "    xaxis_title='Features',\n",
    "    yaxis_title='Features',\n",
    "    xaxis=dict(tickangle=-45)\n",
    ")\n",
    "\n",
    "fig.show()\n"
   ]
  },
  {
   "cell_type": "code",
   "execution_count": 14,
   "metadata": {},
   "outputs": [
    {
     "data": {
      "application/vnd.plotly.v1+json": {
       "config": {
        "plotlyServerURL": "https://plot.ly"
       },
       "data": [
        {
         "colorbar": {
          "title": {
           "text": "Correlation"
          }
         },
         "colorscale": [
          [
           0,
           "#440154"
          ],
          [
           0.1111111111111111,
           "#482878"
          ],
          [
           0.2222222222222222,
           "#3e4989"
          ],
          [
           0.3333333333333333,
           "#31688e"
          ],
          [
           0.4444444444444444,
           "#26828e"
          ],
          [
           0.5555555555555556,
           "#1f9e89"
          ],
          [
           0.6666666666666666,
           "#35b779"
          ],
          [
           0.7777777777777778,
           "#6ece58"
          ],
          [
           0.8888888888888888,
           "#b5de2b"
          ],
          [
           1,
           "#fde725"
          ]
         ],
         "showscale": false,
         "type": "heatmap",
         "x": [
          "Class",
          "V11",
          "V4",
          "V2",
          "V21",
          "V19",
          "V20",
          "V8",
          "V27",
          "V28",
          "Amount",
          "V26",
          "V25",
          "V22",
          "V23"
         ],
         "xaxis": "x",
         "y": [
          "Correlation"
         ],
         "yaxis": "y",
         "z": [
          [
           1,
           0.15487564474394808,
           0.13344748623900488,
           0.09128865034461958,
           0.0404133806105758,
           0.03478301303651483,
           0.020090324196975432,
           0.019875123914794565,
           0.017579728189513262,
           0.009536040916236211,
           0.005631753006768562,
           0.004455397501283357,
           0.0033077055972996652,
           0.0008053175052984553,
           -0.0026851557402506926
          ]
         ],
         "zmax": 1,
         "zmin": -1
        },
        {
         "colorbar": {
          "title": {
           "text": "Correlation"
          }
         },
         "colorscale": [
          [
           0,
           "#440154"
          ],
          [
           0.1111111111111111,
           "#482878"
          ],
          [
           0.2222222222222222,
           "#3e4989"
          ],
          [
           0.3333333333333333,
           "#31688e"
          ],
          [
           0.4444444444444444,
           "#26828e"
          ],
          [
           0.5555555555555556,
           "#1f9e89"
          ],
          [
           0.6666666666666666,
           "#35b779"
          ],
          [
           0.7777777777777778,
           "#6ece58"
          ],
          [
           0.8888888888888888,
           "#b5de2b"
          ],
          [
           1,
           "#fde725"
          ]
         ],
         "showscale": false,
         "type": "heatmap",
         "x": [
          "V15",
          "V13",
          "V24",
          "Time",
          "V6",
          "V5",
          "V9",
          "V1",
          "V18",
          "V7",
          "V3",
          "V16",
          "V10",
          "V12",
          "V14"
         ],
         "xaxis": "x2",
         "y": [
          "Correlation"
         ],
         "yaxis": "y2",
         "z": [
          [
           -0.004223402267856683,
           -0.004569778799461274,
           -0.0072209067159527355,
           -0.012322570929245661,
           -0.04364316069996394,
           -0.09497429899144863,
           -0.09773268607407913,
           -0.10134729859508544,
           -0.11148525388904135,
           -0.18725659151429844,
           -0.19296082706741383,
           -0.19653894030401878,
           -0.2168829436410279,
           -0.26059292487721786,
           -0.3025436958044052
          ]
         ],
         "zmax": 1,
         "zmin": -1
        }
       ],
       "layout": {
        "annotations": [
         {
          "font": {
           "size": 16
          },
          "showarrow": false,
          "text": "Part 1",
          "x": 0.225,
          "xanchor": "center",
          "xref": "paper",
          "y": 1,
          "yanchor": "bottom",
          "yref": "paper"
         },
         {
          "font": {
           "size": 16
          },
          "showarrow": false,
          "text": "Part 2",
          "x": 0.775,
          "xanchor": "center",
          "xref": "paper",
          "y": 1,
          "yanchor": "bottom",
          "yref": "paper"
         }
        ],
        "showlegend": false,
        "template": {
         "data": {
          "bar": [
           {
            "error_x": {
             "color": "#2a3f5f"
            },
            "error_y": {
             "color": "#2a3f5f"
            },
            "marker": {
             "line": {
              "color": "#E5ECF6",
              "width": 0.5
             },
             "pattern": {
              "fillmode": "overlay",
              "size": 10,
              "solidity": 0.2
             }
            },
            "type": "bar"
           }
          ],
          "barpolar": [
           {
            "marker": {
             "line": {
              "color": "#E5ECF6",
              "width": 0.5
             },
             "pattern": {
              "fillmode": "overlay",
              "size": 10,
              "solidity": 0.2
             }
            },
            "type": "barpolar"
           }
          ],
          "carpet": [
           {
            "aaxis": {
             "endlinecolor": "#2a3f5f",
             "gridcolor": "white",
             "linecolor": "white",
             "minorgridcolor": "white",
             "startlinecolor": "#2a3f5f"
            },
            "baxis": {
             "endlinecolor": "#2a3f5f",
             "gridcolor": "white",
             "linecolor": "white",
             "minorgridcolor": "white",
             "startlinecolor": "#2a3f5f"
            },
            "type": "carpet"
           }
          ],
          "choropleth": [
           {
            "colorbar": {
             "outlinewidth": 0,
             "ticks": ""
            },
            "type": "choropleth"
           }
          ],
          "contour": [
           {
            "colorbar": {
             "outlinewidth": 0,
             "ticks": ""
            },
            "colorscale": [
             [
              0,
              "#0d0887"
             ],
             [
              0.1111111111111111,
              "#46039f"
             ],
             [
              0.2222222222222222,
              "#7201a8"
             ],
             [
              0.3333333333333333,
              "#9c179e"
             ],
             [
              0.4444444444444444,
              "#bd3786"
             ],
             [
              0.5555555555555556,
              "#d8576b"
             ],
             [
              0.6666666666666666,
              "#ed7953"
             ],
             [
              0.7777777777777778,
              "#fb9f3a"
             ],
             [
              0.8888888888888888,
              "#fdca26"
             ],
             [
              1,
              "#f0f921"
             ]
            ],
            "type": "contour"
           }
          ],
          "contourcarpet": [
           {
            "colorbar": {
             "outlinewidth": 0,
             "ticks": ""
            },
            "type": "contourcarpet"
           }
          ],
          "heatmap": [
           {
            "colorbar": {
             "outlinewidth": 0,
             "ticks": ""
            },
            "colorscale": [
             [
              0,
              "#0d0887"
             ],
             [
              0.1111111111111111,
              "#46039f"
             ],
             [
              0.2222222222222222,
              "#7201a8"
             ],
             [
              0.3333333333333333,
              "#9c179e"
             ],
             [
              0.4444444444444444,
              "#bd3786"
             ],
             [
              0.5555555555555556,
              "#d8576b"
             ],
             [
              0.6666666666666666,
              "#ed7953"
             ],
             [
              0.7777777777777778,
              "#fb9f3a"
             ],
             [
              0.8888888888888888,
              "#fdca26"
             ],
             [
              1,
              "#f0f921"
             ]
            ],
            "type": "heatmap"
           }
          ],
          "heatmapgl": [
           {
            "colorbar": {
             "outlinewidth": 0,
             "ticks": ""
            },
            "colorscale": [
             [
              0,
              "#0d0887"
             ],
             [
              0.1111111111111111,
              "#46039f"
             ],
             [
              0.2222222222222222,
              "#7201a8"
             ],
             [
              0.3333333333333333,
              "#9c179e"
             ],
             [
              0.4444444444444444,
              "#bd3786"
             ],
             [
              0.5555555555555556,
              "#d8576b"
             ],
             [
              0.6666666666666666,
              "#ed7953"
             ],
             [
              0.7777777777777778,
              "#fb9f3a"
             ],
             [
              0.8888888888888888,
              "#fdca26"
             ],
             [
              1,
              "#f0f921"
             ]
            ],
            "type": "heatmapgl"
           }
          ],
          "histogram": [
           {
            "marker": {
             "pattern": {
              "fillmode": "overlay",
              "size": 10,
              "solidity": 0.2
             }
            },
            "type": "histogram"
           }
          ],
          "histogram2d": [
           {
            "colorbar": {
             "outlinewidth": 0,
             "ticks": ""
            },
            "colorscale": [
             [
              0,
              "#0d0887"
             ],
             [
              0.1111111111111111,
              "#46039f"
             ],
             [
              0.2222222222222222,
              "#7201a8"
             ],
             [
              0.3333333333333333,
              "#9c179e"
             ],
             [
              0.4444444444444444,
              "#bd3786"
             ],
             [
              0.5555555555555556,
              "#d8576b"
             ],
             [
              0.6666666666666666,
              "#ed7953"
             ],
             [
              0.7777777777777778,
              "#fb9f3a"
             ],
             [
              0.8888888888888888,
              "#fdca26"
             ],
             [
              1,
              "#f0f921"
             ]
            ],
            "type": "histogram2d"
           }
          ],
          "histogram2dcontour": [
           {
            "colorbar": {
             "outlinewidth": 0,
             "ticks": ""
            },
            "colorscale": [
             [
              0,
              "#0d0887"
             ],
             [
              0.1111111111111111,
              "#46039f"
             ],
             [
              0.2222222222222222,
              "#7201a8"
             ],
             [
              0.3333333333333333,
              "#9c179e"
             ],
             [
              0.4444444444444444,
              "#bd3786"
             ],
             [
              0.5555555555555556,
              "#d8576b"
             ],
             [
              0.6666666666666666,
              "#ed7953"
             ],
             [
              0.7777777777777778,
              "#fb9f3a"
             ],
             [
              0.8888888888888888,
              "#fdca26"
             ],
             [
              1,
              "#f0f921"
             ]
            ],
            "type": "histogram2dcontour"
           }
          ],
          "mesh3d": [
           {
            "colorbar": {
             "outlinewidth": 0,
             "ticks": ""
            },
            "type": "mesh3d"
           }
          ],
          "parcoords": [
           {
            "line": {
             "colorbar": {
              "outlinewidth": 0,
              "ticks": ""
             }
            },
            "type": "parcoords"
           }
          ],
          "pie": [
           {
            "automargin": true,
            "type": "pie"
           }
          ],
          "scatter": [
           {
            "fillpattern": {
             "fillmode": "overlay",
             "size": 10,
             "solidity": 0.2
            },
            "type": "scatter"
           }
          ],
          "scatter3d": [
           {
            "line": {
             "colorbar": {
              "outlinewidth": 0,
              "ticks": ""
             }
            },
            "marker": {
             "colorbar": {
              "outlinewidth": 0,
              "ticks": ""
             }
            },
            "type": "scatter3d"
           }
          ],
          "scattercarpet": [
           {
            "marker": {
             "colorbar": {
              "outlinewidth": 0,
              "ticks": ""
             }
            },
            "type": "scattercarpet"
           }
          ],
          "scattergeo": [
           {
            "marker": {
             "colorbar": {
              "outlinewidth": 0,
              "ticks": ""
             }
            },
            "type": "scattergeo"
           }
          ],
          "scattergl": [
           {
            "marker": {
             "colorbar": {
              "outlinewidth": 0,
              "ticks": ""
             }
            },
            "type": "scattergl"
           }
          ],
          "scattermapbox": [
           {
            "marker": {
             "colorbar": {
              "outlinewidth": 0,
              "ticks": ""
             }
            },
            "type": "scattermapbox"
           }
          ],
          "scatterpolar": [
           {
            "marker": {
             "colorbar": {
              "outlinewidth": 0,
              "ticks": ""
             }
            },
            "type": "scatterpolar"
           }
          ],
          "scatterpolargl": [
           {
            "marker": {
             "colorbar": {
              "outlinewidth": 0,
              "ticks": ""
             }
            },
            "type": "scatterpolargl"
           }
          ],
          "scatterternary": [
           {
            "marker": {
             "colorbar": {
              "outlinewidth": 0,
              "ticks": ""
             }
            },
            "type": "scatterternary"
           }
          ],
          "surface": [
           {
            "colorbar": {
             "outlinewidth": 0,
             "ticks": ""
            },
            "colorscale": [
             [
              0,
              "#0d0887"
             ],
             [
              0.1111111111111111,
              "#46039f"
             ],
             [
              0.2222222222222222,
              "#7201a8"
             ],
             [
              0.3333333333333333,
              "#9c179e"
             ],
             [
              0.4444444444444444,
              "#bd3786"
             ],
             [
              0.5555555555555556,
              "#d8576b"
             ],
             [
              0.6666666666666666,
              "#ed7953"
             ],
             [
              0.7777777777777778,
              "#fb9f3a"
             ],
             [
              0.8888888888888888,
              "#fdca26"
             ],
             [
              1,
              "#f0f921"
             ]
            ],
            "type": "surface"
           }
          ],
          "table": [
           {
            "cells": {
             "fill": {
              "color": "#EBF0F8"
             },
             "line": {
              "color": "white"
             }
            },
            "header": {
             "fill": {
              "color": "#C8D4E3"
             },
             "line": {
              "color": "white"
             }
            },
            "type": "table"
           }
          ]
         },
         "layout": {
          "annotationdefaults": {
           "arrowcolor": "#2a3f5f",
           "arrowhead": 0,
           "arrowwidth": 1
          },
          "autotypenumbers": "strict",
          "coloraxis": {
           "colorbar": {
            "outlinewidth": 0,
            "ticks": ""
           }
          },
          "colorscale": {
           "diverging": [
            [
             0,
             "#8e0152"
            ],
            [
             0.1,
             "#c51b7d"
            ],
            [
             0.2,
             "#de77ae"
            ],
            [
             0.3,
             "#f1b6da"
            ],
            [
             0.4,
             "#fde0ef"
            ],
            [
             0.5,
             "#f7f7f7"
            ],
            [
             0.6,
             "#e6f5d0"
            ],
            [
             0.7,
             "#b8e186"
            ],
            [
             0.8,
             "#7fbc41"
            ],
            [
             0.9,
             "#4d9221"
            ],
            [
             1,
             "#276419"
            ]
           ],
           "sequential": [
            [
             0,
             "#0d0887"
            ],
            [
             0.1111111111111111,
             "#46039f"
            ],
            [
             0.2222222222222222,
             "#7201a8"
            ],
            [
             0.3333333333333333,
             "#9c179e"
            ],
            [
             0.4444444444444444,
             "#bd3786"
            ],
            [
             0.5555555555555556,
             "#d8576b"
            ],
            [
             0.6666666666666666,
             "#ed7953"
            ],
            [
             0.7777777777777778,
             "#fb9f3a"
            ],
            [
             0.8888888888888888,
             "#fdca26"
            ],
            [
             1,
             "#f0f921"
            ]
           ],
           "sequentialminus": [
            [
             0,
             "#0d0887"
            ],
            [
             0.1111111111111111,
             "#46039f"
            ],
            [
             0.2222222222222222,
             "#7201a8"
            ],
            [
             0.3333333333333333,
             "#9c179e"
            ],
            [
             0.4444444444444444,
             "#bd3786"
            ],
            [
             0.5555555555555556,
             "#d8576b"
            ],
            [
             0.6666666666666666,
             "#ed7953"
            ],
            [
             0.7777777777777778,
             "#fb9f3a"
            ],
            [
             0.8888888888888888,
             "#fdca26"
            ],
            [
             1,
             "#f0f921"
            ]
           ]
          },
          "colorway": [
           "#636efa",
           "#EF553B",
           "#00cc96",
           "#ab63fa",
           "#FFA15A",
           "#19d3f3",
           "#FF6692",
           "#B6E880",
           "#FF97FF",
           "#FECB52"
          ],
          "font": {
           "color": "#2a3f5f"
          },
          "geo": {
           "bgcolor": "white",
           "lakecolor": "white",
           "landcolor": "#E5ECF6",
           "showlakes": true,
           "showland": true,
           "subunitcolor": "white"
          },
          "hoverlabel": {
           "align": "left"
          },
          "hovermode": "closest",
          "mapbox": {
           "style": "light"
          },
          "paper_bgcolor": "white",
          "plot_bgcolor": "#E5ECF6",
          "polar": {
           "angularaxis": {
            "gridcolor": "white",
            "linecolor": "white",
            "ticks": ""
           },
           "bgcolor": "#E5ECF6",
           "radialaxis": {
            "gridcolor": "white",
            "linecolor": "white",
            "ticks": ""
           }
          },
          "scene": {
           "xaxis": {
            "backgroundcolor": "#E5ECF6",
            "gridcolor": "white",
            "gridwidth": 2,
            "linecolor": "white",
            "showbackground": true,
            "ticks": "",
            "zerolinecolor": "white"
           },
           "yaxis": {
            "backgroundcolor": "#E5ECF6",
            "gridcolor": "white",
            "gridwidth": 2,
            "linecolor": "white",
            "showbackground": true,
            "ticks": "",
            "zerolinecolor": "white"
           },
           "zaxis": {
            "backgroundcolor": "#E5ECF6",
            "gridcolor": "white",
            "gridwidth": 2,
            "linecolor": "white",
            "showbackground": true,
            "ticks": "",
            "zerolinecolor": "white"
           }
          },
          "shapedefaults": {
           "line": {
            "color": "#2a3f5f"
           }
          },
          "ternary": {
           "aaxis": {
            "gridcolor": "white",
            "linecolor": "white",
            "ticks": ""
           },
           "baxis": {
            "gridcolor": "white",
            "linecolor": "white",
            "ticks": ""
           },
           "bgcolor": "#E5ECF6",
           "caxis": {
            "gridcolor": "white",
            "linecolor": "white",
            "ticks": ""
           }
          },
          "title": {
           "x": 0.05
          },
          "xaxis": {
           "automargin": true,
           "gridcolor": "white",
           "linecolor": "white",
           "ticks": "",
           "title": {
            "standoff": 15
           },
           "zerolinecolor": "white",
           "zerolinewidth": 2
          },
          "yaxis": {
           "automargin": true,
           "gridcolor": "white",
           "linecolor": "white",
           "ticks": "",
           "title": {
            "standoff": 15
           },
           "zerolinecolor": "white",
           "zerolinewidth": 2
          }
         }
        },
        "title": {
         "text": "Correlation with Target Feature"
        },
        "xaxis": {
         "anchor": "y",
         "domain": [
          0,
          0.45
         ],
         "tickangle": -45,
         "title": {
          "text": "Features"
         }
        },
        "xaxis2": {
         "anchor": "y2",
         "domain": [
          0.55,
          1
         ]
        },
        "yaxis": {
         "anchor": "x",
         "domain": [
          0,
          1
         ],
         "title": {
          "text": "Correlation"
         }
        },
        "yaxis2": {
         "anchor": "x2",
         "domain": [
          0,
          1
         ]
        }
       }
      }
     },
     "metadata": {},
     "output_type": "display_data"
    }
   ],
   "source": [
    "import plotly.graph_objects as go\n",
    "from plotly.subplots import make_subplots\n",
    "\n",
    "# Calculate the correlation with the 'Class' column\n",
    "corr = data.corrwith(data['Class']).sort_values(ascending=False).to_frame()\n",
    "corr.columns = ['Correlation']\n",
    "\n",
    "# Split the correlation DataFrame into two parts for visualization\n",
    "corr_part1 = corr.iloc[:15, :]\n",
    "corr_part2 = corr.iloc[15:30, :]\n",
    "\n",
    "# Create subplots\n",
    "fig = make_subplots(rows=1, cols=2, subplot_titles=(\"Part 1\", \"Part 2\"),\n",
    "                    specs=[[{\"type\": \"heatmap\"}, {\"type\": \"heatmap\"}]])\n",
    "\n",
    "# Add heatmaps to the subplots\n",
    "heatmap_part1 = go.Heatmap(\n",
    "    z=corr_part1.T.values,  # Transpose for correct orientation\n",
    "    x=corr_part1.index,\n",
    "    y=corr_part1.columns,\n",
    "    colorscale='Viridis',  # You can use any colorscale you prefer\n",
    "    colorbar=dict(title='Correlation'),\n",
    "    zmin=-1,\n",
    "    zmax=1,\n",
    "    showscale=False  # Hide colorbar for individual heatmaps, controlled globally\n",
    ")\n",
    "\n",
    "heatmap_part2 = go.Heatmap(\n",
    "    z=corr_part2.T.values,  # Transpose for correct orientation\n",
    "    x=corr_part2.index,\n",
    "    y=corr_part2.columns,\n",
    "    colorscale='Viridis',  # You can use any colorscale you prefer\n",
    "    colorbar=dict(title='Correlation'),\n",
    "    zmin=-1,\n",
    "    zmax=1,\n",
    "    showscale=False  # Hide colorbar for individual heatmaps, controlled globally\n",
    ")\n",
    "\n",
    "fig.add_trace(heatmap_part1, row=1, col=1)\n",
    "fig.add_trace(heatmap_part2, row=1, col=2)\n",
    "\n",
    "# Update layout\n",
    "fig.update_layout(\n",
    "    title='Correlation with Target Feature',\n",
    "    xaxis_title='Features',\n",
    "    yaxis_title='Correlation',\n",
    "    xaxis=dict(tickangle=-45),  # Rotate x-axis labels if needed\n",
    "    showlegend=False\n",
    ")\n",
    "\n",
    "# Show the plot\n",
    "fig.show()\n"
   ]
  },
  {
   "cell_type": "markdown",
   "metadata": {},
   "source": [
    "- According to the correlation between feature and class, V4, V11 are positively correlated with the class and V7, V3, V16, V10, V12, V14 are negatively correlated with the Class feature.\n",
    "\n",
    "- Berdasarkan hasil plot korelasi antara fitur dengan kelas, V4 dan V11 merupakan kelas dengan korelasi kuat, sedangkan V7, V3, V16, V10, V12, V14 memiliki korelasi yang negatif atau lemah terhadap kelas"
   ]
  },
  {
   "cell_type": "markdown",
   "metadata": {},
   "source": [
    "### Uji Anova"
   ]
  },
  {
   "cell_type": "code",
   "execution_count": 15,
   "metadata": {},
   "outputs": [],
   "source": [
    "from sklearn.feature_selection import SelectKBest\n",
    "from sklearn.feature_selection import f_classif"
   ]
  },
  {
   "cell_type": "code",
   "execution_count": 17,
   "metadata": {},
   "outputs": [
    {
     "data": {
      "image/png": "[encoded data removed]",
      "text/plain": [
       "<Figure size 1500x1000 with 2 Axes>"
      ]
     },
     "metadata": {},
     "output_type": "display_data"
    }
   ],
   "source": [
    "import pandas as pd\n",
    "import seaborn as sns\n",
    "import matplotlib.pyplot as plt\n",
    "from sklearn.feature_selection import SelectKBest, f_classif\n",
    "\n",
    "# Assuming 'data' is already defined\n",
    "features = data.loc[:, :'Amount']\n",
    "target = data.loc[:, 'Class']\n",
    "\n",
    "best_features = SelectKBest(score_func=f_classif, k='all')\n",
    "fit = best_features.fit(features, target)\n",
    "\n",
    "featureScores = pd.DataFrame(data=fit.scores_, index=list(features.columns), columns=['ANOVA Score'])\n",
    "featureScores = featureScores.sort_values(ascending=False, by='ANOVA Score')\n",
    "\n",
    "fig, ax = plt.subplots(nrows=2, ncols=1, figsize=(15, 10))  # Adjusted to make the plot horizontal\n",
    "\n",
    "plt.subplot(2, 1, 1)\n",
    "sns.heatmap(featureScores.iloc[:15, :].T, annot=True, cmap='RdYlGn', linewidths=0.4, linecolor='black', cbar=False, fmt='.2f')\n",
    "plt.title('ANOVA Score: Part 1')\n",
    "\n",
    "plt.subplot(2, 1, 2)\n",
    "sns.heatmap(featureScores.iloc[15:30].T, annot=True, cmap='RdYlGn', linewidths=0.4, linecolor='black', cbar=False, fmt='.2f')\n",
    "plt.title('ANOVA Score: Part 2')\n",
    "\n",
    "fig.tight_layout(h_pad=2)\n",
    "\n",
    "plt.show()"
   ]
  },
  {
   "cell_type": "markdown",
   "metadata": {},
   "source": [
    "- For short, the ANOVA score of each feature that return a higher value will be the important feature with the target variable, so next we will select the feature wiith values more than 50\n",
    "\n",
    "- Singkatnya, skor anova tiap fitur yang menghasilkan nilai tinggi akan menjadi fitur penting terhadap variabel taget, berikutnya fitur yang akan digunakan adalah fitur dengan nilai lebih dari 50"
   ]
  },
  {
   "cell_type": "markdown",
   "metadata": {},
   "source": [
    "### Prepare Dataset For Modelling"
   ]
  },
  {
   "cell_type": "markdown",
   "metadata": {},
   "source": [
    "- There are score correlation that resulted from correlation plot and anova score, here we gonna make two dataset with both result for training model\n",
    "\n",
    "-  dari hasil skor korelasi yang dihasilkan dari plot korelasi dan skor anova, berikutnya akan di coba menggunakan 2 dataset berdasarkan masing masing hasil untuk training model"
   ]
  },
  {
   "cell_type": "code",
   "execution_count": 18,
   "metadata": {},
   "outputs": [
    {
     "data": {
      "text/html": [
       "<div>\n",
       "<style scoped>\n",
       "    .dataframe tbody tr th:only-of-type {\n",
       "        vertical-align: middle;\n",
       "    }\n",
       "\n",
       "    .dataframe tbody tr th {\n",
       "        vertical-align: top;\n",
       "    }\n",
       "\n",
       "    .dataframe thead th {\n",
       "        text-align: right;\n",
       "    }\n",
       "</style>\n",
       "<table border=\"1\" class=\"dataframe\">\n",
       "  <thead>\n",
       "    <tr style=\"text-align: right;\">\n",
       "      <th></th>\n",
       "      <th>V3</th>\n",
       "      <th>V4</th>\n",
       "      <th>V7</th>\n",
       "      <th>V10</th>\n",
       "      <th>V11</th>\n",
       "      <th>V12</th>\n",
       "      <th>V14</th>\n",
       "      <th>V16</th>\n",
       "      <th>V17</th>\n",
       "      <th>Class</th>\n",
       "    </tr>\n",
       "  </thead>\n",
       "  <tbody>\n",
       "    <tr>\n",
       "      <th>0</th>\n",
       "      <td>2.536347</td>\n",
       "      <td>1.378155</td>\n",
       "      <td>0.239599</td>\n",
       "      <td>0.090794</td>\n",
       "      <td>-0.551600</td>\n",
       "      <td>-0.617801</td>\n",
       "      <td>-0.311169</td>\n",
       "      <td>-0.470401</td>\n",
       "      <td>0.207971</td>\n",
       "      <td>0</td>\n",
       "    </tr>\n",
       "    <tr>\n",
       "      <th>1</th>\n",
       "      <td>0.166480</td>\n",
       "      <td>0.448154</td>\n",
       "      <td>-0.078803</td>\n",
       "      <td>-0.166974</td>\n",
       "      <td>1.612727</td>\n",
       "      <td>1.065235</td>\n",
       "      <td>-0.143772</td>\n",
       "      <td>0.463917</td>\n",
       "      <td>-0.114805</td>\n",
       "      <td>0</td>\n",
       "    </tr>\n",
       "    <tr>\n",
       "      <th>2</th>\n",
       "      <td>1.773209</td>\n",
       "      <td>0.379780</td>\n",
       "      <td>0.791461</td>\n",
       "      <td>0.207643</td>\n",
       "      <td>0.624501</td>\n",
       "      <td>0.066084</td>\n",
       "      <td>-0.165946</td>\n",
       "      <td>-2.890083</td>\n",
       "      <td>1.109969</td>\n",
       "      <td>0</td>\n",
       "    </tr>\n",
       "    <tr>\n",
       "      <th>3</th>\n",
       "      <td>1.792993</td>\n",
       "      <td>-0.863291</td>\n",
       "      <td>0.237609</td>\n",
       "      <td>-0.054952</td>\n",
       "      <td>-0.226487</td>\n",
       "      <td>0.178228</td>\n",
       "      <td>-0.287924</td>\n",
       "      <td>-1.059647</td>\n",
       "      <td>-0.684093</td>\n",
       "      <td>0</td>\n",
       "    </tr>\n",
       "    <tr>\n",
       "      <th>4</th>\n",
       "      <td>1.548718</td>\n",
       "      <td>0.403034</td>\n",
       "      <td>0.592941</td>\n",
       "      <td>0.753074</td>\n",
       "      <td>-0.822843</td>\n",
       "      <td>0.538196</td>\n",
       "      <td>-1.119670</td>\n",
       "      <td>-0.451449</td>\n",
       "      <td>-0.237033</td>\n",
       "      <td>0</td>\n",
       "    </tr>\n",
       "  </tbody>\n",
       "</table>\n",
       "</div>"
      ],
      "text/plain": [
       "         V3        V4        V7       V10       V11       V12       V14  \\\n",
       "0  2.536347  1.378155  0.239599  0.090794 -0.551600 -0.617801 -0.311169   \n",
       "1  0.166480  0.448154 -0.078803 -0.166974  1.612727  1.065235 -0.143772   \n",
       "2  1.773209  0.379780  0.791461  0.207643  0.624501  0.066084 -0.165946   \n",
       "3  1.792993 -0.863291  0.237609 -0.054952 -0.226487  0.178228 -0.287924   \n",
       "4  1.548718  0.403034  0.592941  0.753074 -0.822843  0.538196 -1.119670   \n",
       "\n",
       "        V16       V17  Class  \n",
       "0 -0.470401  0.207971      0  \n",
       "1  0.463917 -0.114805      0  \n",
       "2 -2.890083  1.109969      0  \n",
       "3 -1.059647 -0.684093      0  \n",
       "4 -0.451449 -0.237033      0  "
      ]
     },
     "execution_count": 18,
     "metadata": {},
     "output_type": "execute_result"
    }
   ],
   "source": [
    "df1 = data[['V3','V4','V7','V10','V11','V12','V14','V16','V17','Class']].copy(deep = True)\n",
    "df1.head()"
   ]
  },
  {
   "cell_type": "code",
   "execution_count": 19,
   "metadata": {},
   "outputs": [
    {
     "data": {
      "text/html": [
       "<div>\n",
       "<style scoped>\n",
       "    .dataframe tbody tr th:only-of-type {\n",
       "        vertical-align: middle;\n",
       "    }\n",
       "\n",
       "    .dataframe tbody tr th {\n",
       "        vertical-align: top;\n",
       "    }\n",
       "\n",
       "    .dataframe thead th {\n",
       "        text-align: right;\n",
       "    }\n",
       "</style>\n",
       "<table border=\"1\" class=\"dataframe\">\n",
       "  <thead>\n",
       "    <tr style=\"text-align: right;\">\n",
       "      <th></th>\n",
       "      <th>V1</th>\n",
       "      <th>V2</th>\n",
       "      <th>V3</th>\n",
       "      <th>V4</th>\n",
       "      <th>V5</th>\n",
       "      <th>V6</th>\n",
       "      <th>V7</th>\n",
       "      <th>V8</th>\n",
       "      <th>V9</th>\n",
       "      <th>V10</th>\n",
       "      <th>...</th>\n",
       "      <th>V12</th>\n",
       "      <th>V14</th>\n",
       "      <th>V16</th>\n",
       "      <th>V17</th>\n",
       "      <th>V18</th>\n",
       "      <th>V19</th>\n",
       "      <th>V20</th>\n",
       "      <th>V21</th>\n",
       "      <th>V27</th>\n",
       "      <th>Class</th>\n",
       "    </tr>\n",
       "  </thead>\n",
       "  <tbody>\n",
       "    <tr>\n",
       "      <th>0</th>\n",
       "      <td>-1.359807</td>\n",
       "      <td>-0.072781</td>\n",
       "      <td>2.536347</td>\n",
       "      <td>1.378155</td>\n",
       "      <td>-0.338321</td>\n",
       "      <td>0.462388</td>\n",
       "      <td>0.239599</td>\n",
       "      <td>0.098698</td>\n",
       "      <td>0.363787</td>\n",
       "      <td>0.090794</td>\n",
       "      <td>...</td>\n",
       "      <td>-0.617801</td>\n",
       "      <td>-0.311169</td>\n",
       "      <td>-0.470401</td>\n",
       "      <td>0.207971</td>\n",
       "      <td>0.025791</td>\n",
       "      <td>0.403993</td>\n",
       "      <td>0.251412</td>\n",
       "      <td>-0.018307</td>\n",
       "      <td>0.133558</td>\n",
       "      <td>0</td>\n",
       "    </tr>\n",
       "    <tr>\n",
       "      <th>1</th>\n",
       "      <td>1.191857</td>\n",
       "      <td>0.266151</td>\n",
       "      <td>0.166480</td>\n",
       "      <td>0.448154</td>\n",
       "      <td>0.060018</td>\n",
       "      <td>-0.082361</td>\n",
       "      <td>-0.078803</td>\n",
       "      <td>0.085102</td>\n",
       "      <td>-0.255425</td>\n",
       "      <td>-0.166974</td>\n",
       "      <td>...</td>\n",
       "      <td>1.065235</td>\n",
       "      <td>-0.143772</td>\n",
       "      <td>0.463917</td>\n",
       "      <td>-0.114805</td>\n",
       "      <td>-0.183361</td>\n",
       "      <td>-0.145783</td>\n",
       "      <td>-0.069083</td>\n",
       "      <td>-0.225775</td>\n",
       "      <td>-0.008983</td>\n",
       "      <td>0</td>\n",
       "    </tr>\n",
       "    <tr>\n",
       "      <th>2</th>\n",
       "      <td>-1.358354</td>\n",
       "      <td>-1.340163</td>\n",
       "      <td>1.773209</td>\n",
       "      <td>0.379780</td>\n",
       "      <td>-0.503198</td>\n",
       "      <td>1.800499</td>\n",
       "      <td>0.791461</td>\n",
       "      <td>0.247676</td>\n",
       "      <td>-1.514654</td>\n",
       "      <td>0.207643</td>\n",
       "      <td>...</td>\n",
       "      <td>0.066084</td>\n",
       "      <td>-0.165946</td>\n",
       "      <td>-2.890083</td>\n",
       "      <td>1.109969</td>\n",
       "      <td>-0.121359</td>\n",
       "      <td>-2.261857</td>\n",
       "      <td>0.524980</td>\n",
       "      <td>0.247998</td>\n",
       "      <td>-0.055353</td>\n",
       "      <td>0</td>\n",
       "    </tr>\n",
       "    <tr>\n",
       "      <th>3</th>\n",
       "      <td>-0.966272</td>\n",
       "      <td>-0.185226</td>\n",
       "      <td>1.792993</td>\n",
       "      <td>-0.863291</td>\n",
       "      <td>-0.010309</td>\n",
       "      <td>1.247203</td>\n",
       "      <td>0.237609</td>\n",
       "      <td>0.377436</td>\n",
       "      <td>-1.387024</td>\n",
       "      <td>-0.054952</td>\n",
       "      <td>...</td>\n",
       "      <td>0.178228</td>\n",
       "      <td>-0.287924</td>\n",
       "      <td>-1.059647</td>\n",
       "      <td>-0.684093</td>\n",
       "      <td>1.965775</td>\n",
       "      <td>-1.232622</td>\n",
       "      <td>-0.208038</td>\n",
       "      <td>-0.108300</td>\n",
       "      <td>0.062723</td>\n",
       "      <td>0</td>\n",
       "    </tr>\n",
       "    <tr>\n",
       "      <th>4</th>\n",
       "      <td>-1.158233</td>\n",
       "      <td>0.877737</td>\n",
       "      <td>1.548718</td>\n",
       "      <td>0.403034</td>\n",
       "      <td>-0.407193</td>\n",
       "      <td>0.095921</td>\n",
       "      <td>0.592941</td>\n",
       "      <td>-0.270533</td>\n",
       "      <td>0.817739</td>\n",
       "      <td>0.753074</td>\n",
       "      <td>...</td>\n",
       "      <td>0.538196</td>\n",
       "      <td>-1.119670</td>\n",
       "      <td>-0.451449</td>\n",
       "      <td>-0.237033</td>\n",
       "      <td>-0.038195</td>\n",
       "      <td>0.803487</td>\n",
       "      <td>0.408542</td>\n",
       "      <td>-0.009431</td>\n",
       "      <td>0.219422</td>\n",
       "      <td>0</td>\n",
       "    </tr>\n",
       "  </tbody>\n",
       "</table>\n",
       "<p>5 rows × 21 columns</p>\n",
       "</div>"
      ],
      "text/plain": [
       "         V1        V2        V3        V4        V5        V6        V7  \\\n",
       "0 -1.359807 -0.072781  2.536347  1.378155 -0.338321  0.462388  0.239599   \n",
       "1  1.191857  0.266151  0.166480  0.448154  0.060018 -0.082361 -0.078803   \n",
       "2 -1.358354 -1.340163  1.773209  0.379780 -0.503198  1.800499  0.791461   \n",
       "3 -0.966272 -0.185226  1.792993 -0.863291 -0.010309  1.247203  0.237609   \n",
       "4 -1.158233  0.877737  1.548718  0.403034 -0.407193  0.095921  0.592941   \n",
       "\n",
       "         V8        V9       V10  ...       V12       V14       V16       V17  \\\n",
       "0  0.098698  0.363787  0.090794  ... -0.617801 -0.311169 -0.470401  0.207971   \n",
       "1  0.085102 -0.255425 -0.166974  ...  1.065235 -0.143772  0.463917 -0.114805   \n",
       "2  0.247676 -1.514654  0.207643  ...  0.066084 -0.165946 -2.890083  1.109969   \n",
       "3  0.377436 -1.387024 -0.054952  ...  0.178228 -0.287924 -1.059647 -0.684093   \n",
       "4 -0.270533  0.817739  0.753074  ...  0.538196 -1.119670 -0.451449 -0.237033   \n",
       "\n",
       "        V18       V19       V20       V21       V27  Class  \n",
       "0  0.025791  0.403993  0.251412 -0.018307  0.133558      0  \n",
       "1 -0.183361 -0.145783 -0.069083 -0.225775 -0.008983      0  \n",
       "2 -0.121359 -2.261857  0.524980  0.247998 -0.055353      0  \n",
       "3  1.965775 -1.232622 -0.208038 -0.108300  0.062723      0  \n",
       "4 -0.038195  0.803487  0.408542 -0.009431  0.219422      0  \n",
       "\n",
       "[5 rows x 21 columns]"
      ]
     },
     "execution_count": 19,
     "metadata": {},
     "output_type": "execute_result"
    }
   ],
   "source": [
    "df2 = data.copy(deep = True)\n",
    "df2.drop(columns = list(featureScores.index[20:]),inplace = True)\n",
    "df2.head()"
   ]
  },
  {
   "cell_type": "markdown",
   "metadata": {},
   "source": [
    "### Data Balancing"
   ]
  },
  {
   "cell_type": "markdown",
   "metadata": {},
   "source": [
    "- Due to the inbalance dataset, here we come true that we have to balance the data, the way we make it is to undersampling the majority target variable, it means to trim down the majority samples of the target variable\n",
    "\n",
    "- karena dataset yang tidak seimbang, disinilah kita akan melakukan penyeimbangan data, dengan cara melakukan undersampling mayoritas target variabel, yang berarti memotor sampel mayoritas target variabel"
   ]
  },
  {
   "cell_type": "code",
   "execution_count": 20,
   "metadata": {},
   "outputs": [],
   "source": [
    "import imblearn\n",
    "from collections import Counter\n",
    "from imblearn.over_sampling import SMOTE\n",
    "from imblearn.under_sampling import RandomUnderSampler\n",
    "from imblearn.pipeline import Pipeline"
   ]
  },
  {
   "cell_type": "code",
   "execution_count": 23,
   "metadata": {},
   "outputs": [],
   "source": [
    "over = SMOTE(sampling_strategy=0.5)\n",
    "under = RandomUnderSampler(sampling_strategy=0.1)"
   ]
  },
  {
   "cell_type": "code",
   "execution_count": 24,
   "metadata": {},
   "outputs": [
    {
     "name": "stdout",
     "output_type": "stream",
     "text": [
      "Counter({0: 4920, 1: 2460})\n",
      "Counter({0: 4920, 1: 2460})\n"
     ]
    }
   ],
   "source": [
    "features1 = df1.iloc[:, :-1].values\n",
    "target1 = df1.iloc[:, -1].values\n",
    "pipeline = Pipeline(steps=[('under', under), ('over', over)])\n",
    "features1, target1 = pipeline.fit_resample(features1, target1)\n",
    "print(Counter(target1))\n",
    "\n",
    "# Resample df2\n",
    "features2 = df2.iloc[:, :-1].values\n",
    "target2 = df2.iloc[:, -1].values\n",
    "pipeline = Pipeline(steps=[('under', under), ('over', over)])\n",
    "features2, target2 = pipeline.fit_resample(features2, target2)\n",
    "print(Counter(target2))"
   ]
  },
  {
   "cell_type": "markdown",
   "metadata": {},
   "source": [
    "- Here wo do with both dataaset"
   ]
  },
  {
   "cell_type": "markdown",
   "metadata": {},
   "source": [
    "### Model"
   ]
  },
  {
   "cell_type": "code",
   "execution_count": 25,
   "metadata": {},
   "outputs": [],
   "source": [
    "from sklearn.model_selection import train_test_split, RepeatedStratifiedKFold, cross_val_score\n",
    "from sklearn.metrics import confusion_matrix, roc_auc_score, classification_report, RocCurveDisplay\n",
    "from sklearn.linear_model import LogisticRegression\n",
    "from sklearn.svm import SVC\n",
    "from sklearn.tree import DecisionTreeClassifier\n",
    "from sklearn.ensemble import RandomForestClassifier\n",
    "from sklearn.neighbors import KNeighborsClassifier\n",
    "\n"
   ]
  },
  {
   "cell_type": "code",
   "execution_count": 26,
   "metadata": {},
   "outputs": [],
   "source": [
    "\n",
    "x_train1, x_test1, y_train1, y_test1 = train_test_split(features1, target1, test_size=0.20, random_state=2)\n",
    "x_train2, x_test2, y_train2, y_test2 = train_test_split(features2, target2, test_size=0.20, random_state=2)\n",
    "\n",
    "\n"
   ]
  },
  {
   "cell_type": "code",
   "execution_count": 27,
   "metadata": {},
   "outputs": [],
   "source": [
    "def evaluate_model(classifier, x_train, y_train, x_test, y_test):\n",
    "    classifier.fit(x_train, y_train)\n",
    "    predictions = classifier.predict(x_test)\n",
    "    cv = RepeatedStratifiedKFold(n_splits=10, n_repeats=3, random_state=1)\n",
    "    print(\"Cross Validation Score:\", '{:.2%}'.format(cross_val_score(classifier, x_train, y_train, cv=cv, scoring='roc_auc').mean()))\n",
    "    print(\"ROC AUC Score:\", '{:.2%}'.format(roc_auc_score(y_test, predictions)))\n",
    "    RocCurveDisplay.from_estimator(classifier, x_test, y_test)\n",
    "    plt.title('ROC AUC Plot')\n",
    "    plt.show()\n",
    "\n",
    "def evaluate_classification_report(classifier, x_test, y_test):\n",
    "    cm = confusion_matrix(y_test, classifier.predict(x_test))\n",
    "    labels = ['True Neg','False Pos','False Neg','True Pos']\n",
    "    counts = [value for value in cm.flatten()]\n",
    "    percentages = ['{:.2%}'.format(value) for value in cm.flatten() / np.sum(cm)]\n",
    "    cm_labels = [f'{v1}\\n{v2}\\n{v3}' for v1, v2, v3 in zip(labels, counts, percentages)]\n",
    "    cm_labels = np.asarray(cm_labels).reshape(2, 2)\n",
    "    sns.heatmap(cm, annot=cm_labels, cmap='Blues', fmt='')\n",
    "    plt.show()\n",
    "    print(classification_report(y_test, classifier.predict(x_test)))\n",
    "\n"
   ]
  },
  {
   "cell_type": "code",
   "execution_count": 28,
   "metadata": {},
   "outputs": [
    {
     "name": "stdout",
     "output_type": "stream",
     "text": [
      "Evaluating Logistic Regression on dataset 1\n",
      "Cross Validation Score: 98.29%\n",
      "ROC AUC Score: 92.55%\n"
     ]
    },
    {
     "data": {
      "image/png": "[encoded data removed]",
      "text/plain": [
       "<Figure size 640x480 with 1 Axes>"
      ]
     },
     "metadata": {},
     "output_type": "display_data"
    },
    {
     "data": {
      "image/png": "[encoded data removed]",
      "text/plain": [
       "<Figure size 640x480 with 2 Axes>"
      ]
     },
     "metadata": {},
     "output_type": "display_data"
    },
    {
     "name": "stdout",
     "output_type": "stream",
     "text": [
      "              precision    recall  f1-score   support\n",
      "\n",
      "           0       0.93      0.99      0.96       975\n",
      "           1       0.98      0.86      0.92       501\n",
      "\n",
      "    accuracy                           0.95      1476\n",
      "   macro avg       0.96      0.93      0.94      1476\n",
      "weighted avg       0.95      0.95      0.95      1476\n",
      "\n",
      "Evaluating Logistic Regression on dataset 2\n",
      "Cross Validation Score: 98.53%\n",
      "ROC AUC Score: 94.40%\n"
     ]
    },
    {
     "data": {
      "image/png": "[encoded data removed]",
      "text/plain": [
       "<Figure size 640x480 with 1 Axes>"
      ]
     },
     "metadata": {},
     "output_type": "display_data"
    },
    {
     "data": {
      "image/png": "[encoded data removed]",
      "text/plain": [
       "<Figure size 640x480 with 2 Axes>"
      ]
     },
     "metadata": {},
     "output_type": "display_data"
    },
    {
     "name": "stdout",
     "output_type": "stream",
     "text": [
      "              precision    recall  f1-score   support\n",
      "\n",
      "           0       0.95      0.99      0.97       975\n",
      "           1       0.99      0.89      0.94       501\n",
      "\n",
      "    accuracy                           0.96      1476\n",
      "   macro avg       0.97      0.94      0.95      1476\n",
      "weighted avg       0.96      0.96      0.96      1476\n",
      "\n",
      "Evaluating SVM on dataset 1\n",
      "Cross Validation Score: 98.25%\n",
      "ROC AUC Score: 92.00%\n"
     ]
    },
    {
     "data": {
      "image/png": "[encoded data removed]",
      "text/plain": [
       "<Figure size 640x480 with 1 Axes>"
      ]
     },
     "metadata": {},
     "output_type": "display_data"
    },
    {
     "data": {
      "image/png": "[encoded data removed]",
      "text/plain": [
       "<Figure size 640x480 with 2 Axes>"
      ]
     },
     "metadata": {},
     "output_type": "display_data"
    },
    {
     "name": "stdout",
     "output_type": "stream",
     "text": [
      "              precision    recall  f1-score   support\n",
      "\n",
      "           0       0.93      0.99      0.96       975\n",
      "           1       0.98      0.85      0.91       501\n",
      "\n",
      "    accuracy                           0.94      1476\n",
      "   macro avg       0.95      0.92      0.93      1476\n",
      "weighted avg       0.95      0.94      0.94      1476\n",
      "\n",
      "Evaluating SVM on dataset 2\n",
      "Cross Validation Score: 98.40%\n",
      "ROC AUC Score: 94.11%\n"
     ]
    },
    {
     "data": {
      "image/png": "[encoded data removed]",
      "text/plain": [
       "<Figure size 640x480 with 1 Axes>"
      ]
     },
     "metadata": {},
     "output_type": "display_data"
    },
    {
     "data": {
      "image/png": "[encoded data removed]",
      "text/plain": [
       "<Figure size 640x480 with 2 Axes>"
      ]
     },
     "metadata": {},
     "output_type": "display_data"
    },
    {
     "name": "stdout",
     "output_type": "stream",
     "text": [
      "              precision    recall  f1-score   support\n",
      "\n",
      "           0       0.94      1.00      0.97       975\n",
      "           1       1.00      0.88      0.94       501\n",
      "\n",
      "    accuracy                           0.96      1476\n",
      "   macro avg       0.97      0.94      0.95      1476\n",
      "weighted avg       0.96      0.96      0.96      1476\n",
      "\n",
      "Evaluating Decision Tree on dataset 1\n",
      "Cross Validation Score: 97.24%\n",
      "ROC AUC Score: 92.01%\n"
     ]
    },
    {
     "data": {
      "image/png": "[encoded data removed]",
      "text/plain": [
       "<Figure size 640x480 with 1 Axes>"
      ]
     },
     "metadata": {},
     "output_type": "display_data"
    },
    {
     "data": {
      "image/png": "[encoded data removed]",
      "text/plain": [
       "<Figure size 640x480 with 2 Axes>"
      ]
     },
     "metadata": {},
     "output_type": "display_data"
    },
    {
     "name": "stdout",
     "output_type": "stream",
     "text": [
      "              precision    recall  f1-score   support\n",
      "\n",
      "           0       0.93      0.99      0.96       975\n",
      "           1       0.99      0.85      0.91       501\n",
      "\n",
      "    accuracy                           0.94      1476\n",
      "   macro avg       0.96      0.92      0.93      1476\n",
      "weighted avg       0.95      0.94      0.94      1476\n",
      "\n",
      "Evaluating Decision Tree on dataset 2\n",
      "Cross Validation Score: 96.16%\n",
      "ROC AUC Score: 94.70%\n"
     ]
    },
    {
     "data": {
      "image/png": "[encoded data removed]",
      "text/plain": [
       "<Figure size 640x480 with 1 Axes>"
      ]
     },
     "metadata": {},
     "output_type": "display_data"
    },
    {
     "data": {
      "image/png": "[encoded data removed]",
      "text/plain": [
       "<Figure size 640x480 with 2 Axes>"
      ]
     },
     "metadata": {},
     "output_type": "display_data"
    },
    {
     "name": "stdout",
     "output_type": "stream",
     "text": [
      "              precision    recall  f1-score   support\n",
      "\n",
      "           0       0.95      0.99      0.97       975\n",
      "           1       0.98      0.90      0.94       501\n",
      "\n",
      "    accuracy                           0.96      1476\n",
      "   macro avg       0.97      0.95      0.96      1476\n",
      "weighted avg       0.96      0.96      0.96      1476\n",
      "\n",
      "Evaluating Random Forest on dataset 1\n",
      "Cross Validation Score: 98.14%\n",
      "ROC AUC Score: 92.21%\n"
     ]
    },
    {
     "data": {
      "image/png": "[encoded data removed]",
      "text/plain": [
       "<Figure size 640x480 with 1 Axes>"
      ]
     },
     "metadata": {},
     "output_type": "display_data"
    },
    {
     "data": {
      "image/png": "[encoded data removed]",
      "text/plain": [
       "<Figure size 640x480 with 2 Axes>"
      ]
     },
     "metadata": {},
     "output_type": "display_data"
    },
    {
     "name": "stdout",
     "output_type": "stream",
     "text": [
      "              precision    recall  f1-score   support\n",
      "\n",
      "           0       0.93      1.00      0.96       975\n",
      "           1       0.99      0.85      0.91       501\n",
      "\n",
      "    accuracy                           0.95      1476\n",
      "   macro avg       0.96      0.92      0.94      1476\n",
      "weighted avg       0.95      0.95      0.94      1476\n",
      "\n",
      "Evaluating Random Forest on dataset 2\n",
      "Cross Validation Score: 98.05%\n",
      "ROC AUC Score: 93.66%\n"
     ]
    },
    {
     "data": {
      "image/png": "[encoded data removed]",
      "text/plain": [
       "<Figure size 640x480 with 1 Axes>"
      ]
     },
     "metadata": {},
     "output_type": "display_data"
    },
    {
     "data": {
      "image/png": "[encoded data removed]",
      "text/plain": [
       "<Figure size 640x480 with 2 Axes>"
      ]
     },
     "metadata": {},
     "output_type": "display_data"
    },
    {
     "name": "stdout",
     "output_type": "stream",
     "text": [
      "              precision    recall  f1-score   support\n",
      "\n",
      "           0       0.94      1.00      0.97       975\n",
      "           1       1.00      0.87      0.93       501\n",
      "\n",
      "    accuracy                           0.96      1476\n",
      "   macro avg       0.97      0.94      0.95      1476\n",
      "weighted avg       0.96      0.96      0.96      1476\n",
      "\n",
      "Evaluating KNN on dataset 1\n",
      "Cross Validation Score: 99.38%\n",
      "ROC AUC Score: 97.82%\n"
     ]
    },
    {
     "data": {
      "image/png": "[encoded data removed]",
      "text/plain": [
       "<Figure size 640x480 with 1 Axes>"
      ]
     },
     "metadata": {},
     "output_type": "display_data"
    },
    {
     "data": {
      "image/png": "[encoded data removed]",
      "text/plain": [
       "<Figure size 640x480 with 2 Axes>"
      ]
     },
     "metadata": {},
     "output_type": "display_data"
    },
    {
     "name": "stdout",
     "output_type": "stream",
     "text": [
      "              precision    recall  f1-score   support\n",
      "\n",
      "           0       0.99      0.98      0.98       975\n",
      "           1       0.96      0.98      0.97       501\n",
      "\n",
      "    accuracy                           0.98      1476\n",
      "   macro avg       0.97      0.98      0.98      1476\n",
      "weighted avg       0.98      0.98      0.98      1476\n",
      "\n",
      "Evaluating KNN on dataset 2\n",
      "Cross Validation Score: 99.49%\n",
      "ROC AUC Score: 98.83%\n"
     ]
    },
    {
     "data": {
      "image/png": "[encoded data removed]",
      "text/plain": [
       "<Figure size 640x480 with 1 Axes>"
      ]
     },
     "metadata": {},
     "output_type": "display_data"
    },
    {
     "data": {
      "image/png": "[encoded data removed]",
      "text/plain": [
       "<Figure size 640x480 with 2 Axes>"
      ]
     },
     "metadata": {},
     "output_type": "display_data"
    },
    {
     "name": "stdout",
     "output_type": "stream",
     "text": [
      "              precision    recall  f1-score   support\n",
      "\n",
      "           0       1.00      0.98      0.99       975\n",
      "           1       0.97      0.99      0.98       501\n",
      "\n",
      "    accuracy                           0.99      1476\n",
      "   macro avg       0.98      0.99      0.98      1476\n",
      "weighted avg       0.99      0.99      0.99      1476\n",
      "\n"
     ]
    }
   ],
   "source": [
    "# Initialize classifiers\n",
    "classifiers = {\n",
    "    'Logistic Regression': LogisticRegression(random_state=0, C=10, penalty='l2'),\n",
    "    'SVM': SVC(kernel='linear', C=0.1),\n",
    "    'Decision Tree': DecisionTreeClassifier(random_state=1000, max_depth=4, min_samples_leaf=1),\n",
    "    'Random Forest': RandomForestClassifier(max_depth=4, random_state=0),\n",
    "    'KNN': KNeighborsClassifier(leaf_size=1, n_neighbors=3, p=1)\n",
    "}\n",
    "\n",
    "# Evaluate models on both datasets\n",
    "for name, classifier in classifiers.items():\n",
    "    print(f\"Evaluating {name} on dataset 1\")\n",
    "    evaluate_model(classifier, x_train1, y_train1, x_test1, y_test1)\n",
    "    evaluate_classification_report(classifier, x_test1, y_test1)\n",
    "    print(f\"Evaluating {name} on dataset 2\")\n",
    "    evaluate_model(classifier, x_train2, y_train2, x_test2, y_test2)\n",
    "    evaluate_classification_report(classifier, x_test2, y_test2)"
   ]
  }
 ],
 "metadata": {
  "kernelspec": {
   "display_name": "Python 3",
   "language": "python",
   "name": "python3"
  },
  "language_info": {
   "codemirror_mode": {
    "name": "ipython",
    "version": 3
   },
   "file_extension": ".py",
   "mimetype": "text/x-python",
   "name": "python",
   "nbconvert_exporter": "python",
   "pygments_lexer": "ipython3",
   "version": "3.9.2"
  }
 },
 "nbformat": 4,
 "nbformat_minor": 2
}
